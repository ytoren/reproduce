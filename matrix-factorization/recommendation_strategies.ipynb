{
 "cells": [
  {
   "cell_type": "markdown",
   "metadata": {
    "toc": true
   },
   "source": [
    "<h1>Table of Contents<span class=\"tocSkip\"></span></h1>\n",
    "<div class=\"toc\"><ul class=\"toc-item\"><li><span><a href=\"#Background\" data-toc-modified-id=\"Background-1\"><span class=\"toc-item-num\">1&nbsp;&nbsp;</span>Background</a></span></li><li><span><a href=\"#Setup\" data-toc-modified-id=\"Setup-2\"><span class=\"toc-item-num\">2&nbsp;&nbsp;</span>Setup</a></span></li><li><span><a href=\"#Data\" data-toc-modified-id=\"Data-3\"><span class=\"toc-item-num\">3&nbsp;&nbsp;</span>Data</a></span><ul class=\"toc-item\"><li><span><a href=\"#About-the-data|\" data-toc-modified-id=\"About-the-data|-3.1\"><span class=\"toc-item-num\">3.1&nbsp;&nbsp;</span>About the data|</a></span></li><li><span><a href=\"#Read-data\" data-toc-modified-id=\"Read-data-3.2\"><span class=\"toc-item-num\">3.2&nbsp;&nbsp;</span>Read data</a></span></li><li><span><a href=\"#Matrix-form\" data-toc-modified-id=\"Matrix-form-3.3\"><span class=\"toc-item-num\">3.3&nbsp;&nbsp;</span>Matrix form</a></span></li></ul></li><li><span><a href=\"#Aux-functions\" data-toc-modified-id=\"Aux-functions-4\"><span class=\"toc-item-num\">4&nbsp;&nbsp;</span>Aux functions</a></span></li><li><span><a href=\"#User-recommendations\" data-toc-modified-id=\"User-recommendations-5\"><span class=\"toc-item-num\">5&nbsp;&nbsp;</span>User recommendations</a></span><ul class=\"toc-item\"><li><span><a href=\"#Product-similarity-based-recommendations\" data-toc-modified-id=\"Product-similarity-based-recommendations-5.1\"><span class=\"toc-item-num\">5.1&nbsp;&nbsp;</span>Product similarity based recommendations</a></span><ul class=\"toc-item\"><li><span><a href=\"#Distances\" data-toc-modified-id=\"Distances-5.1.1\"><span class=\"toc-item-num\">5.1.1&nbsp;&nbsp;</span>Distances</a></span></li><li><span><a href=\"#Rules-for-similarity-based-recommendations\" data-toc-modified-id=\"Rules-for-similarity-based-recommendations-5.1.2\"><span class=\"toc-item-num\">5.1.2&nbsp;&nbsp;</span>Rules for similarity based recommendations</a></span></li><li><span><a href=\"#Example-1\" data-toc-modified-id=\"Example-1-5.1.3\"><span class=\"toc-item-num\">5.1.3&nbsp;&nbsp;</span>Example 1</a></span></li></ul></li><li><span><a href=\"#User-similarity-based-recommendations\" data-toc-modified-id=\"User-similarity-based-recommendations-5.2\"><span class=\"toc-item-num\">5.2&nbsp;&nbsp;</span>User similarity based recommendations</a></span></li></ul></li><li><span><a href=\"#Collaborative-Filtering\" data-toc-modified-id=\"Collaborative-Filtering-6\"><span class=\"toc-item-num\">6&nbsp;&nbsp;</span>Collaborative Filtering</a></span><ul class=\"toc-item\"><li><span><a href=\"#Parameters\" data-toc-modified-id=\"Parameters-6.1\"><span class=\"toc-item-num\">6.1&nbsp;&nbsp;</span>Parameters</a></span></li><li><span><a href=\"#Simple-Gradient-Descent\" data-toc-modified-id=\"Simple-Gradient-Descent-6.2\"><span class=\"toc-item-num\">6.2&nbsp;&nbsp;</span>Simple Gradient Descent</a></span><ul class=\"toc-item\"><li><span><a href=\"#Initialize\" data-toc-modified-id=\"Initialize-6.2.1\"><span class=\"toc-item-num\">6.2.1&nbsp;&nbsp;</span>Initialize</a></span></li><li><span><a href=\"#Gradient-Descent\" data-toc-modified-id=\"Gradient-Descent-6.2.2\"><span class=\"toc-item-num\">6.2.2&nbsp;&nbsp;</span>Gradient Descent</a></span></li></ul></li><li><span><a href=\"#Regularisation\" data-toc-modified-id=\"Regularisation-6.3\"><span class=\"toc-item-num\">6.3&nbsp;&nbsp;</span>Regularisation</a></span></li><li><span><a href=\"#Stochastic-GD\" data-toc-modified-id=\"Stochastic-GD-6.4\"><span class=\"toc-item-num\">6.4&nbsp;&nbsp;</span>Stochastic GD</a></span></li></ul></li></ul></div>"
   ]
  },
  {
   "cell_type": "markdown",
   "metadata": {},
   "source": [
    "# Background\n",
    "This is based on ideas from this [post](http://www.albertauyeung.com/post/python-matrix-factorization/), but takes a more simple, script-like approach"
   ]
  },
  {
   "cell_type": "markdown",
   "metadata": {},
   "source": [
    "# Setup"
   ]
  },
  {
   "cell_type": "markdown",
   "metadata": {},
   "source": [
    "Data & Algebra libs"
   ]
  },
  {
   "cell_type": "code",
   "execution_count": null,
   "metadata": {},
   "outputs": [],
   "source": [
    "import pandas as pd\n",
    "import numpy as np\n",
    "from sklearn.metrics import pairwise_distances"
   ]
  },
  {
   "cell_type": "markdown",
   "metadata": {},
   "source": [
    "Graphic libs"
   ]
  },
  {
   "cell_type": "code",
   "execution_count": null,
   "metadata": {},
   "outputs": [],
   "source": [
    "from matplotlib import pyplot as plt\n",
    "%matplotlib inline\n",
    "import seaborn as sns\n",
    "from scipy.cluster import hierarchy"
   ]
  },
  {
   "cell_type": "markdown",
   "metadata": {},
   "source": [
    "# Data"
   ]
  },
  {
   "cell_type": "markdown",
   "metadata": {},
   "source": [
    "## About the data|\n",
    "You can find everything you need to know about the MovieLens dataset [here](http://files.grouplens.org/datasets/movielens/ml-100k/README)"
   ]
  },
  {
   "cell_type": "markdown",
   "metadata": {},
   "source": [
    "## Read data"
   ]
  },
  {
   "cell_type": "code",
   "execution_count": null,
   "metadata": {},
   "outputs": [],
   "source": [
    "ml = \\\n",
    "pd.read_csv(\n",
    "    filepath_or_buffer = 'http://files.grouplens.org/datasets/movielens/ml-100k/u.data',\n",
    "    header = None,\n",
    "    sep = '\\t'\n",
    ")"
   ]
  },
  {
   "cell_type": "code",
   "execution_count": null,
   "metadata": {},
   "outputs": [],
   "source": [
    "ml.columns = 'user id | item id | rating | timestamp'.split(' | ')"
   ]
  },
  {
   "cell_type": "markdown",
   "metadata": {},
   "source": [
    "For offline usage"
   ]
  },
  {
   "cell_type": "code",
   "execution_count": null,
   "metadata": {},
   "outputs": [],
   "source": [
    "# ml.to_feather('movie_rec.feather')\n",
    "# ml = pd.read_feather('movie_rec.feather')"
   ]
  },
  {
   "cell_type": "markdown",
   "metadata": {},
   "source": [
    "Our dataset at a glance"
   ]
  },
  {
   "cell_type": "code",
   "execution_count": null,
   "metadata": {},
   "outputs": [],
   "source": [
    "ml.shape"
   ]
  },
  {
   "cell_type": "code",
   "execution_count": null,
   "metadata": {},
   "outputs": [],
   "source": [
    "ml.head()"
   ]
  },
  {
   "cell_type": "code",
   "execution_count": null,
   "metadata": {},
   "outputs": [],
   "source": [
    "ml.describe()"
   ]
  },
  {
   "cell_type": "markdown",
   "metadata": {},
   "source": [
    "## Matrix form"
   ]
  },
  {
   "cell_type": "code",
   "execution_count": null,
   "metadata": {},
   "outputs": [],
   "source": [
    "data_mat = \\\n",
    "ml.drop(columns=['timestamp']).\\\n",
    "    pivot(\n",
    "        index = 'user id', \n",
    "        columns = 'item id', \n",
    "        values = 'rating'\n",
    "    ).\\\n",
    "    fillna(0)"
   ]
  },
  {
   "cell_type": "markdown",
   "metadata": {},
   "source": [
    "# Aux functions"
   ]
  },
  {
   "cell_type": "code",
   "execution_count": null,
   "metadata": {},
   "outputs": [],
   "source": [
    "def vis_dist_mat(dist, bins = 30):\n",
    "    '''Visualize different aspects of a distance matrix\n",
    "    \n",
    "    :param dist: a distance matrix calculated by `pairwise_distances`\n",
    "    \n",
    "    :Example:\n",
    "    >>> vis_dist_mat(dist)\n",
    "    '''\n",
    "    \n",
    "    dist_vec = \\\n",
    "    pd.Series(\n",
    "        dist[\n",
    "            np.tril_indices(dist.shape[0], k=1)\n",
    "        ]\n",
    "    )\n",
    "    \n",
    "    print('Distance Matrix Details\\n=======================\\n')\n",
    "    \n",
    "    print(\n",
    "        '* have have',\n",
    "        (dist_vec == 0).sum(),\n",
    "        'identical products (with distance = 0), and',\n",
    "        (dist_vec == 1).sum(),\n",
    "        'with no common ratings (distance = 1)\\n'\n",
    "    )\n",
    "    print('* Percentiles:')\n",
    "    print(dist_vec.describe(), '\\n')\n",
    "    \n",
    "    sns.distplot(\n",
    "        dist_vec,\n",
    "        bins = bins,\n",
    "        kde = False,\n",
    "        norm_hist = False,\n",
    "    ).\\\n",
    "    set_title('Distance distribution')\n",
    "    \n",
    "    plt.figure()\n",
    "\n",
    "    dn = hierarchy.dendrogram(hierarchy.ward(dist))\n",
    "    plt.xticks([])\n",
    "    plt.title('Cluster dendogram')\n",
    "\n",
    "    plt.show()\n",
    "    \n",
    "    return None"
   ]
  },
  {
   "cell_type": "markdown",
   "metadata": {},
   "source": [
    "# User recommendations"
   ]
  },
  {
   "cell_type": "markdown",
   "metadata": {},
   "source": [
    "## Product similarity based recommendations\n",
    "This approach looks at all the products recommended by the users and try to find \"similar\" products based on some simple rules."
   ]
  },
  {
   "cell_type": "markdown",
   "metadata": {},
   "source": [
    "### Distances"
   ]
  },
  {
   "cell_type": "code",
   "execution_count": null,
   "metadata": {},
   "outputs": [],
   "source": [
    "product_dist = pairwise_distances(X = data_mat.T, metric = 'cosine')"
   ]
  },
  {
   "cell_type": "code",
   "execution_count": null,
   "metadata": {},
   "outputs": [],
   "source": [
    "vis_dist_mat(product_dist)"
   ]
  },
  {
   "cell_type": "markdown",
   "metadata": {},
   "source": [
    "### Rules for similarity based recommendations"
   ]
  },
  {
   "cell_type": "markdown",
   "metadata": {},
   "source": [
    "There are several strategies for picking the products we want to recommend based on product similarity, but essentially we need to make several choices\n",
    "1. What products we look at: all the products the user rated? Only producs with $n$ stars or more? Or do we weights the distances by the number of stars? And even with weights - do 1 star reviews have a positive weight or shoud we give a low number of stars a negative weight? \n",
    "2. How do we aggregate the distances? Say the user only rated 2 products, and both of them are similar to product $j$. Do we rank product $j$ compared to all the other producuts that have some similarity to the 2 rated products? Do we sum up distances for each product and rank? Do we take $min$/$max$/... distance for each product?\n",
    "3. What would be the threshold for a product to be recommended? This is dependent on practical limitaions, e.g. what's the minimum/maximim number of products we have to/can recommend, and what is the distribution of distances and other considerations (e.g. do we want an absolute threshold of similarity and not just the top 5)"
   ]
  },
  {
   "cell_type": "markdown",
   "metadata": {},
   "source": [
    "Looking at the second choice we have to make: there's one huge advantage to summing up distances over picking min/max or other aggregation methods - __we can use matrix multiplication!__"
   ]
  },
  {
   "cell_type": "markdown",
   "metadata": {},
   "source": [
    "### Example 1\n",
    "We decide to look at all the movies a user rated (no matter what the rating was) and sum up the similarities to other products, and recommend the top 5 most similar products (regardless of the absolute level of similarity - in this example we _have_ to recommend exactly 5 products, no matter what)"
   ]
  },
  {
   "cell_type": "markdown",
   "metadata": {},
   "source": [
    "We define \n",
    "1. The symmetric matrix $P$ containing prodcut to product distances as we calculated above (our `product_dist` matrix based on `cosine` distance)\n",
    "2. A matrix with binary values $C$"
   ]
  },
  {
   "cell_type": "markdown",
   "metadata": {},
   "source": [
    "\\begin{equation*}\n",
    "    C_{I \\times J} = \\left( \\left( c_{i,j} \\right) \\right)_{I \\times J}\n",
    "\\end{equation*}\n",
    "where\n",
    "\\begin{equation*}\n",
    "    c_{i,j} = \n",
    "    \\left[\n",
    "        \\begin{array}{ll}\n",
    "          1 & R_{i,j} > 0 \\\\\n",
    "          0 & \\text{otherwise}\n",
    "        \\end{array}\n",
    "    \\right.\n",
    "\\end{equation*}"
   ]
  },
  {
   "cell_type": "markdown",
   "metadata": {},
   "source": [
    "For every user $i$ we want to look at all rated products, and find the distances from other products. This can be written as a sparse matrix, where only rows matching rated products will have non-zero values:"
   ]
  },
  {
   "cell_type": "markdown",
   "metadata": {},
   "source": [
    "\\begin{equation*}\n",
    "   \\forall i,  \\left( \\left( c_{i,j} p_{j,k} \\right) \\right)_{J \\times J}\n",
    "\\end{equation*}"
   ]
  },
  {
   "cell_type": "markdown",
   "metadata": {},
   "source": [
    "And if our way to rank products is to sum up distances, we can sum up across columns, to get $\\left( \\sum_{j} C_{i,j} P_{j,1} , \\ldots, \\sum_{j}  C_{i,j} P_{j,J} \\right)$, which is simply the $i$'th row of the matrix $CP$, which we can calculate as:"
   ]
  },
  {
   "cell_type": "code",
   "execution_count": null,
   "metadata": {},
   "outputs": [],
   "source": [
    "CP = (data_mat > 0).dot(product_dist)\n",
    "CP.columns = data_mat.columns"
   ]
  },
  {
   "cell_type": "markdown",
   "metadata": {},
   "source": [
    "For practical reasons we need to work with the long format, sorted by similarity."
   ]
  },
  {
   "cell_type": "code",
   "execution_count": null,
   "metadata": {},
   "outputs": [],
   "source": [
    "user_rec = pd.DataFrame({'dist': CP.T.unstack()})"
   ]
  },
  {
   "cell_type": "markdown",
   "metadata": {},
   "source": [
    "And now we can pull out only the top 5 most similar products (or apply and other selection rule)"
   ]
  },
  {
   "cell_type": "code",
   "execution_count": null,
   "metadata": {},
   "outputs": [],
   "source": [
    "user_rec.\\\n",
    "groupby(user_rec.index.get_level_values(0)).\\\n",
    "apply(\n",
    "    lambda x: x.sort_values(by = 'dist').head(5).reset_index()\n",
    ").head(15)"
   ]
  },
  {
   "cell_type": "markdown",
   "metadata": {},
   "source": [
    "## User similarity based recommendations"
   ]
  },
  {
   "cell_type": "code",
   "execution_count": null,
   "metadata": {},
   "outputs": [],
   "source": [
    "user_dist = pairwise_distances(X = data_mat, metric = 'cosine')"
   ]
  },
  {
   "cell_type": "code",
   "execution_count": null,
   "metadata": {},
   "outputs": [],
   "source": [
    "vis_dist_mat(user_dist)"
   ]
  },
  {
   "cell_type": "markdown",
   "metadata": {},
   "source": [
    "For rach user we pick the top $n$ most similar users and select the products they liked most "
   ]
  },
  {
   "cell_type": "markdown",
   "metadata": {},
   "source": [
    "# Collaborative Filtering"
   ]
  },
  {
   "cell_type": "markdown",
   "metadata": {},
   "source": [
    "## Parameters"
   ]
  },
  {
   "cell_type": "code",
   "execution_count": null,
   "metadata": {},
   "outputs": [],
   "source": [
    "K = 3\n",
    "R = np.array(data_mat)\n",
    "iterations = 1000\n",
    "tolerance = 0.05\n",
    "alpha = 0.0001"
   ]
  },
  {
   "cell_type": "markdown",
   "metadata": {},
   "source": [
    "## Simple Gradient Descent"
   ]
  },
  {
   "cell_type": "markdown",
   "metadata": {},
   "source": [
    "### Initialize"
   ]
  },
  {
   "cell_type": "code",
   "execution_count": null,
   "metadata": {},
   "outputs": [],
   "source": [
    "P = np.random.normal(scale=1./K, size=(R.shape[0], K))\n",
    "Q = np.random.normal(scale=1./K, size=(K, R.shape[1]))"
   ]
  },
  {
   "cell_type": "code",
   "execution_count": null,
   "metadata": {},
   "outputs": [],
   "source": [
    "training_process = pd.DataFrame(columns=['iteration', 'mse'])\n",
    "t = 1\n",
    "mse_prev = 0\n",
    "mse = 1e6"
   ]
  },
  {
   "cell_type": "markdown",
   "metadata": {},
   "source": [
    "### Gradient Descent"
   ]
  },
  {
   "cell_type": "code",
   "execution_count": null,
   "metadata": {},
   "outputs": [],
   "source": [
    "while t <= iterations and abs(mse - mse_prev) > tolerance:\n",
    "    mse_prev = mse\n",
    "    \n",
    "    ## Error matrix\n",
    "    error = R - P.dot(Q)\n",
    "\n",
    "    ## Update down the gradient\n",
    "    P = P + 2 * alpha * error.dot(Q.T)\n",
    "    Q = Q + 2 * alpha * P.T.dot(error)\n",
    "\n",
    "    mse = np.power(error, 2).sum()\n",
    "    training_process = training_process.append(pd.DataFrame({'iteration': [t], 'mse': [mse]}))\n",
    "\n",
    "    if (t+1) % 50 == 0:\n",
    "        print(\"Iteration: %d ; error = %.4f\" % (t+1, mse))\n",
    "    t += 1"
   ]
  },
  {
   "cell_type": "code",
   "execution_count": null,
   "metadata": {},
   "outputs": [],
   "source": [
    "training_process.set_index('iteration', inplace=True)"
   ]
  },
  {
   "cell_type": "code",
   "execution_count": null,
   "metadata": {},
   "outputs": [],
   "source": [
    "plt.figure()\n",
    "plt.plot(training_process['mse'])\n",
    "plt.title('Algorithm progress')"
   ]
  },
  {
   "cell_type": "markdown",
   "metadata": {},
   "source": [
    "## Regularisation"
   ]
  },
  {
   "cell_type": "markdown",
   "metadata": {},
   "source": [
    "TBD\n",
    "* Add a penalty on $\\sqrt{\\sum q_{i,j}^2 + \\sum p_{i,j}^2}$ ($L2$) or $\\sum \\left| q_{i,j} \\right| + \\sum \\left| p_{i,j} \\right| $ ($L1$) with a penalty coeff $\\gamma$ on the MSE goal function and optimize $MSE - \\lambda ()$ \n",
    "* This probably requires some form of normalisation of $P,Q$ prior to optimisation "
   ]
  },
  {
   "cell_type": "markdown",
   "metadata": {},
   "source": [
    "## Stochastic GD"
   ]
  },
  {
   "cell_type": "markdown",
   "metadata": {},
   "source": [
    "TBD"
   ]
  }
 ],
 "metadata": {
  "kernelspec": {
   "display_name": "Python 3",
   "language": "python",
   "name": "python3"
  },
  "language_info": {
   "codemirror_mode": {
    "name": "ipython",
    "version": 3
   },
   "file_extension": ".py",
   "mimetype": "text/x-python",
   "name": "python",
   "nbconvert_exporter": "python",
   "pygments_lexer": "ipython3",
   "version": "3.6.5"
  },
  "toc": {
   "base_numbering": 1,
   "nav_menu": {},
   "number_sections": true,
   "sideBar": true,
   "skip_h1_title": false,
   "title_cell": "Table of Contents",
   "title_sidebar": "Contents",
   "toc_cell": true,
   "toc_position": {},
   "toc_section_display": true,
   "toc_window_display": true
  },
  "varInspector": {
   "cols": {
    "lenName": 16,
    "lenType": 16,
    "lenVar": 40
   },
   "kernels_config": {
    "python": {
     "delete_cmd_postfix": "",
     "delete_cmd_prefix": "del ",
     "library": "var_list.py",
     "varRefreshCmd": "print(var_dic_list())"
    },
    "r": {
     "delete_cmd_postfix": ") ",
     "delete_cmd_prefix": "rm(",
     "library": "var_list.r",
     "varRefreshCmd": "cat(var_dic_list()) "
    }
   },
   "types_to_exclude": [
    "module",
    "function",
    "builtin_function_or_method",
    "instance",
    "_Feature"
   ],
   "window_display": false
  }
 },
 "nbformat": 4,
 "nbformat_minor": 2
}
