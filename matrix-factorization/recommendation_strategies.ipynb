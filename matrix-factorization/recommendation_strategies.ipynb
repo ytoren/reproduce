{
 "cells": [
  {
   "cell_type": "markdown",
   "metadata": {
    "toc": true
   },
   "source": [
    "<h1>Table of Contents<span class=\"tocSkip\"></span></h1>\n",
    "<div class=\"toc\"><ul class=\"toc-item\"><li><span><a href=\"#Background\" data-toc-modified-id=\"Background-1\"><span class=\"toc-item-num\">1&nbsp;&nbsp;</span>Background</a></span></li><li><span><a href=\"#Setup\" data-toc-modified-id=\"Setup-2\"><span class=\"toc-item-num\">2&nbsp;&nbsp;</span>Setup</a></span></li><li><span><a href=\"#Data\" data-toc-modified-id=\"Data-3\"><span class=\"toc-item-num\">3&nbsp;&nbsp;</span>Data</a></span><ul class=\"toc-item\"><li><span><a href=\"#About-the-data\" data-toc-modified-id=\"About-the-data-3.1\"><span class=\"toc-item-num\">3.1&nbsp;&nbsp;</span>About the data</a></span></li><li><span><a href=\"#Read-data\" data-toc-modified-id=\"Read-data-3.2\"><span class=\"toc-item-num\">3.2&nbsp;&nbsp;</span>Read data</a></span></li><li><span><a href=\"#Matrix-form\" data-toc-modified-id=\"Matrix-form-3.3\"><span class=\"toc-item-num\">3.3&nbsp;&nbsp;</span>Matrix form</a></span></li></ul></li><li><span><a href=\"#Aux-functions\" data-toc-modified-id=\"Aux-functions-4\"><span class=\"toc-item-num\">4&nbsp;&nbsp;</span>Aux functions</a></span></li><li><span><a href=\"#User-recommendations\" data-toc-modified-id=\"User-recommendations-5\"><span class=\"toc-item-num\">5&nbsp;&nbsp;</span>User recommendations</a></span><ul class=\"toc-item\"><li><span><a href=\"#Product-similarity-based-recommendations\" data-toc-modified-id=\"Product-similarity-based-recommendations-5.1\"><span class=\"toc-item-num\">5.1&nbsp;&nbsp;</span>Product similarity based recommendations</a></span><ul class=\"toc-item\"><li><span><a href=\"#Distances\" data-toc-modified-id=\"Distances-5.1.1\"><span class=\"toc-item-num\">5.1.1&nbsp;&nbsp;</span>Distances</a></span></li><li><span><a href=\"#Rules-for-similarity-based-recommendations\" data-toc-modified-id=\"Rules-for-similarity-based-recommendations-5.1.2\"><span class=\"toc-item-num\">5.1.2&nbsp;&nbsp;</span>Rules for similarity based recommendations</a></span></li><li><span><a href=\"#Example-1\" data-toc-modified-id=\"Example-1-5.1.3\"><span class=\"toc-item-num\">5.1.3&nbsp;&nbsp;</span>Example 1</a></span></li></ul></li><li><span><a href=\"#User-similarity-based-recommendations\" data-toc-modified-id=\"User-similarity-based-recommendations-5.2\"><span class=\"toc-item-num\">5.2&nbsp;&nbsp;</span>User similarity based recommendations</a></span></li></ul></li><li><span><a href=\"#Collaborative-Filtering\" data-toc-modified-id=\"Collaborative-Filtering-6\"><span class=\"toc-item-num\">6&nbsp;&nbsp;</span>Collaborative Filtering</a></span><ul class=\"toc-item\"><li><span><a href=\"#Parameters\" data-toc-modified-id=\"Parameters-6.1\"><span class=\"toc-item-num\">6.1&nbsp;&nbsp;</span>Parameters</a></span></li><li><span><a href=\"#Simple-Gradient-Descent\" data-toc-modified-id=\"Simple-Gradient-Descent-6.2\"><span class=\"toc-item-num\">6.2&nbsp;&nbsp;</span>Simple Gradient Descent</a></span><ul class=\"toc-item\"><li><span><a href=\"#Initialize\" data-toc-modified-id=\"Initialize-6.2.1\"><span class=\"toc-item-num\">6.2.1&nbsp;&nbsp;</span>Initialize</a></span></li><li><span><a href=\"#Gradient-Descent\" data-toc-modified-id=\"Gradient-Descent-6.2.2\"><span class=\"toc-item-num\">6.2.2&nbsp;&nbsp;</span>Gradient Descent</a></span></li></ul></li><li><span><a href=\"#Regularisation\" data-toc-modified-id=\"Regularisation-6.3\"><span class=\"toc-item-num\">6.3&nbsp;&nbsp;</span>Regularisation</a></span></li><li><span><a href=\"#Stochastic-GD\" data-toc-modified-id=\"Stochastic-GD-6.4\"><span class=\"toc-item-num\">6.4&nbsp;&nbsp;</span>Stochastic GD</a></span></li><li><span><a href=\"#User/product-clusters\" data-toc-modified-id=\"User/product-clusters-6.5\"><span class=\"toc-item-num\">6.5&nbsp;&nbsp;</span>User/product clusters</a></span></li><li><span><a href=\"#Calculating-recommendations\" data-toc-modified-id=\"Calculating-recommendations-6.6\"><span class=\"toc-item-num\">6.6&nbsp;&nbsp;</span>Calculating recommendations</a></span></li></ul></li><li><span><a href=\"#Finally,-a-note-on-scalability\" data-toc-modified-id=\"Finally,-a-note-on-scalability-7\"><span class=\"toc-item-num\">7&nbsp;&nbsp;</span>Finally, a note on scalability</a></span></li></ul></div>"
   ]
  },
  {
   "cell_type": "markdown",
   "metadata": {},
   "source": [
    "# Background\n",
    "This is based on ideas from this [post](http://www.albertauyeung.com/post/python-matrix-factorization/), but takes a more simple, script-like approach. Our motivation is to try and recommend _new_ products to our users, based on their rating of products they already engaged with."
   ]
  },
  {
   "cell_type": "markdown",
   "metadata": {},
   "source": [
    "# Setup"
   ]
  },
  {
   "cell_type": "markdown",
   "metadata": {},
   "source": [
    "Data & Algebra libs"
   ]
  },
  {
   "cell_type": "code",
   "execution_count": 1,
   "metadata": {},
   "outputs": [],
   "source": [
    "import pandas as pd\n",
    "import numpy as np\n",
    "from sklearn.metrics import pairwise_distances"
   ]
  },
  {
   "cell_type": "markdown",
   "metadata": {},
   "source": [
    "Graphic libs"
   ]
  },
  {
   "cell_type": "code",
   "execution_count": 2,
   "metadata": {},
   "outputs": [],
   "source": [
    "from matplotlib import pyplot as plt\n",
    "%matplotlib inline\n",
    "import seaborn as sns\n",
    "from scipy.cluster import hierarchy"
   ]
  },
  {
   "cell_type": "markdown",
   "metadata": {},
   "source": [
    "# Data"
   ]
  },
  {
   "cell_type": "markdown",
   "metadata": {},
   "source": [
    "## About the data\n",
    "You can find everything you need to know about the MovieLens dataset [here](http://files.grouplens.org/datasets/movielens/ml-100k/README)"
   ]
  },
  {
   "cell_type": "markdown",
   "metadata": {},
   "source": [
    "## Read data"
   ]
  },
  {
   "cell_type": "code",
   "execution_count": 3,
   "metadata": {},
   "outputs": [],
   "source": [
    "ml = \\\n",
    "pd.read_csv(\n",
    "    filepath_or_buffer = 'http://files.grouplens.org/datasets/movielens/ml-100k/u.data',\n",
    "    header = None,\n",
    "    sep = '\\t'\n",
    ")"
   ]
  },
  {
   "cell_type": "code",
   "execution_count": 4,
   "metadata": {},
   "outputs": [],
   "source": [
    "ml.columns = 'user id | item id | rating | timestamp'.split(' | ')"
   ]
  },
  {
   "cell_type": "markdown",
   "metadata": {},
   "source": [
    "For off-line usage"
   ]
  },
  {
   "cell_type": "code",
   "execution_count": 5,
   "metadata": {},
   "outputs": [],
   "source": [
    "# ml.to_feather('movie_rec.feather')\n",
    "# ml = pd.read_feather('movie_rec.feather')"
   ]
  },
  {
   "cell_type": "markdown",
   "metadata": {},
   "source": [
    "Our dataset at a glance"
   ]
  },
  {
   "cell_type": "code",
   "execution_count": 6,
   "metadata": {},
   "outputs": [
    {
     "data": {
      "text/plain": [
       "(100000, 4)"
      ]
     },
     "execution_count": 6,
     "metadata": {},
     "output_type": "execute_result"
    }
   ],
   "source": [
    "ml.shape"
   ]
  },
  {
   "cell_type": "code",
   "execution_count": 7,
   "metadata": {},
   "outputs": [
    {
     "data": {
      "text/html": [
       "<div>\n",
       "<style scoped>\n",
       "    .dataframe tbody tr th:only-of-type {\n",
       "        vertical-align: middle;\n",
       "    }\n",
       "\n",
       "    .dataframe tbody tr th {\n",
       "        vertical-align: top;\n",
       "    }\n",
       "\n",
       "    .dataframe thead th {\n",
       "        text-align: right;\n",
       "    }\n",
       "</style>\n",
       "<table border=\"1\" class=\"dataframe\">\n",
       "  <thead>\n",
       "    <tr style=\"text-align: right;\">\n",
       "      <th></th>\n",
       "      <th>user id</th>\n",
       "      <th>item id</th>\n",
       "      <th>rating</th>\n",
       "      <th>timestamp</th>\n",
       "    </tr>\n",
       "  </thead>\n",
       "  <tbody>\n",
       "    <tr>\n",
       "      <th>0</th>\n",
       "      <td>196</td>\n",
       "      <td>242</td>\n",
       "      <td>3</td>\n",
       "      <td>881250949</td>\n",
       "    </tr>\n",
       "    <tr>\n",
       "      <th>1</th>\n",
       "      <td>186</td>\n",
       "      <td>302</td>\n",
       "      <td>3</td>\n",
       "      <td>891717742</td>\n",
       "    </tr>\n",
       "    <tr>\n",
       "      <th>2</th>\n",
       "      <td>22</td>\n",
       "      <td>377</td>\n",
       "      <td>1</td>\n",
       "      <td>878887116</td>\n",
       "    </tr>\n",
       "    <tr>\n",
       "      <th>3</th>\n",
       "      <td>244</td>\n",
       "      <td>51</td>\n",
       "      <td>2</td>\n",
       "      <td>880606923</td>\n",
       "    </tr>\n",
       "    <tr>\n",
       "      <th>4</th>\n",
       "      <td>166</td>\n",
       "      <td>346</td>\n",
       "      <td>1</td>\n",
       "      <td>886397596</td>\n",
       "    </tr>\n",
       "  </tbody>\n",
       "</table>\n",
       "</div>"
      ],
      "text/plain": [
       "   user id  item id  rating  timestamp\n",
       "0      196      242       3  881250949\n",
       "1      186      302       3  891717742\n",
       "2       22      377       1  878887116\n",
       "3      244       51       2  880606923\n",
       "4      166      346       1  886397596"
      ]
     },
     "execution_count": 7,
     "metadata": {},
     "output_type": "execute_result"
    }
   ],
   "source": [
    "ml.head()"
   ]
  },
  {
   "cell_type": "code",
   "execution_count": 8,
   "metadata": {},
   "outputs": [
    {
     "data": {
      "text/html": [
       "<div>\n",
       "<style scoped>\n",
       "    .dataframe tbody tr th:only-of-type {\n",
       "        vertical-align: middle;\n",
       "    }\n",
       "\n",
       "    .dataframe tbody tr th {\n",
       "        vertical-align: top;\n",
       "    }\n",
       "\n",
       "    .dataframe thead th {\n",
       "        text-align: right;\n",
       "    }\n",
       "</style>\n",
       "<table border=\"1\" class=\"dataframe\">\n",
       "  <thead>\n",
       "    <tr style=\"text-align: right;\">\n",
       "      <th></th>\n",
       "      <th>user id</th>\n",
       "      <th>item id</th>\n",
       "      <th>rating</th>\n",
       "      <th>timestamp</th>\n",
       "    </tr>\n",
       "  </thead>\n",
       "  <tbody>\n",
       "    <tr>\n",
       "      <th>count</th>\n",
       "      <td>100000.00000</td>\n",
       "      <td>100000.000000</td>\n",
       "      <td>100000.000000</td>\n",
       "      <td>1.000000e+05</td>\n",
       "    </tr>\n",
       "    <tr>\n",
       "      <th>mean</th>\n",
       "      <td>462.48475</td>\n",
       "      <td>425.530130</td>\n",
       "      <td>3.529860</td>\n",
       "      <td>8.835289e+08</td>\n",
       "    </tr>\n",
       "    <tr>\n",
       "      <th>std</th>\n",
       "      <td>266.61442</td>\n",
       "      <td>330.798356</td>\n",
       "      <td>1.125674</td>\n",
       "      <td>5.343856e+06</td>\n",
       "    </tr>\n",
       "    <tr>\n",
       "      <th>min</th>\n",
       "      <td>1.00000</td>\n",
       "      <td>1.000000</td>\n",
       "      <td>1.000000</td>\n",
       "      <td>8.747247e+08</td>\n",
       "    </tr>\n",
       "    <tr>\n",
       "      <th>25%</th>\n",
       "      <td>254.00000</td>\n",
       "      <td>175.000000</td>\n",
       "      <td>3.000000</td>\n",
       "      <td>8.794487e+08</td>\n",
       "    </tr>\n",
       "    <tr>\n",
       "      <th>50%</th>\n",
       "      <td>447.00000</td>\n",
       "      <td>322.000000</td>\n",
       "      <td>4.000000</td>\n",
       "      <td>8.828269e+08</td>\n",
       "    </tr>\n",
       "    <tr>\n",
       "      <th>75%</th>\n",
       "      <td>682.00000</td>\n",
       "      <td>631.000000</td>\n",
       "      <td>4.000000</td>\n",
       "      <td>8.882600e+08</td>\n",
       "    </tr>\n",
       "    <tr>\n",
       "      <th>max</th>\n",
       "      <td>943.00000</td>\n",
       "      <td>1682.000000</td>\n",
       "      <td>5.000000</td>\n",
       "      <td>8.932866e+08</td>\n",
       "    </tr>\n",
       "  </tbody>\n",
       "</table>\n",
       "</div>"
      ],
      "text/plain": [
       "            user id        item id         rating     timestamp\n",
       "count  100000.00000  100000.000000  100000.000000  1.000000e+05\n",
       "mean      462.48475     425.530130       3.529860  8.835289e+08\n",
       "std       266.61442     330.798356       1.125674  5.343856e+06\n",
       "min         1.00000       1.000000       1.000000  8.747247e+08\n",
       "25%       254.00000     175.000000       3.000000  8.794487e+08\n",
       "50%       447.00000     322.000000       4.000000  8.828269e+08\n",
       "75%       682.00000     631.000000       4.000000  8.882600e+08\n",
       "max       943.00000    1682.000000       5.000000  8.932866e+08"
      ]
     },
     "execution_count": 8,
     "metadata": {},
     "output_type": "execute_result"
    }
   ],
   "source": [
    "ml.describe()"
   ]
  },
  {
   "cell_type": "markdown",
   "metadata": {},
   "source": [
    "## Matrix form"
   ]
  },
  {
   "cell_type": "code",
   "execution_count": 9,
   "metadata": {},
   "outputs": [],
   "source": [
    "data_mat = \\\n",
    "ml.drop(columns=['timestamp']).\\\n",
    "    pivot(\n",
    "        index = 'user id', \n",
    "        columns = 'item id', \n",
    "        values = 'rating'\n",
    "    ).\\\n",
    "    fillna(0)"
   ]
  },
  {
   "cell_type": "markdown",
   "metadata": {},
   "source": [
    "# Aux functions"
   ]
  },
  {
   "cell_type": "code",
   "execution_count": 10,
   "metadata": {},
   "outputs": [],
   "source": [
    "def vis_dist_mat(dist, bins = 30):\n",
    "    '''Visualize different aspects of a distance matrix\n",
    "    \n",
    "    :param dist: a distance matrix calculated by `pairwise_distances`\n",
    "    \n",
    "    :Example:\n",
    "    >>> vis_dist_mat(dist)\n",
    "    '''\n",
    "    \n",
    "    dist_vec = \\\n",
    "    pd.Series(\n",
    "        dist[\n",
    "            np.tril_indices(dist.shape[0], k=1)\n",
    "        ]\n",
    "    )\n",
    "    \n",
    "    print('Distance Matrix Details\\n=======================\\n')\n",
    "    \n",
    "    print(\n",
    "        '* have have',\n",
    "        (dist_vec == 0).sum(),\n",
    "        'identical items (with distance = 0), and',\n",
    "        (dist_vec == 1).sum(),\n",
    "        'with no common ratings (distance = 1)\\n'\n",
    "    )\n",
    "    print('* Percentiles:')\n",
    "    print(dist_vec.describe(), '\\n')\n",
    "    \n",
    "    sns.distplot(\n",
    "        dist_vec,\n",
    "        bins = bins,\n",
    "        kde = False,\n",
    "        norm_hist = False,\n",
    "    ).\\\n",
    "    set_title('Distance distribution')\n",
    "    \n",
    "    plt.figure()\n",
    "\n",
    "    dn = hierarchy.dendrogram(hierarchy.ward(dist))\n",
    "    plt.xticks([])\n",
    "    plt.title('Cluster dendogram')\n",
    "\n",
    "    plt.show()\n",
    "    \n",
    "    return None"
   ]
  },
  {
   "cell_type": "markdown",
   "metadata": {},
   "source": [
    "# User recommendations"
   ]
  },
  {
   "cell_type": "markdown",
   "metadata": {},
   "source": [
    "## Product similarity based recommendations\n",
    "This approach looks at all the products recommended by the users and try to find \"similar\" products based on some simple rules."
   ]
  },
  {
   "cell_type": "markdown",
   "metadata": {},
   "source": [
    "### Distances"
   ]
  },
  {
   "cell_type": "code",
   "execution_count": 11,
   "metadata": {},
   "outputs": [],
   "source": [
    "product_dist = pairwise_distances(X = data_mat.T, metric = 'cosine')"
   ]
  },
  {
   "cell_type": "code",
   "execution_count": 12,
   "metadata": {},
   "outputs": [
    {
     "name": "stdout",
     "output_type": "stream",
     "text": [
      "Distance Matrix Details\n",
      "=======================\n",
      "\n",
      "* have have 2392 identical items (with distance = 0), and 430641 with no common ratings (distance = 1)\n",
      "\n",
      "* Percentiles:\n",
      "count    1.417084e+06\n",
      "mean     9.129765e-01\n",
      "std      1.089063e-01\n",
      "min      0.000000e+00\n",
      "25%      8.696132e-01\n",
      "50%      9.451297e-01\n",
      "75%      1.000000e+00\n",
      "max      1.000000e+00\n",
      "dtype: float64 \n",
      "\n"
     ]
    },
    {
     "name": "stderr",
     "output_type": "stream",
     "text": [
      "/usr/local/lib/python3.6/dist-packages/matplotlib/axes/_axes.py:6462: UserWarning: The 'normed' kwarg is deprecated, and has been replaced by the 'density' kwarg.\n",
      "  warnings.warn(\"The 'normed' kwarg is deprecated, and has been \"\n",
      "/usr/local/lib/python3.6/dist-packages/scipy/cluster/hierarchy.py:482: ClusterWarning: scipy.cluster: The symmetric non-negative hollow observation matrix looks suspiciously like an uncondensed distance matrix\n",
      "  return linkage(y, method='ward', metric='euclidean')\n"
     ]
    },
    {
     "data": {
      "image/png": "[encoded data removed]",
      "text/plain": [
       "<Figure size 432x288 with 1 Axes>"
      ]
     },
     "metadata": {},
     "output_type": "display_data"
    },
    {
     "data": {
      "image/png": "[encoded data removed]",
      "text/plain": [
       "<Figure size 432x288 with 1 Axes>"
      ]
     },
     "metadata": {},
     "output_type": "display_data"
    }
   ],
   "source": [
    "vis_dist_mat(product_dist)"
   ]
  },
  {
   "cell_type": "markdown",
   "metadata": {},
   "source": [
    "It's interesting that a lot of products have close to no similarity at all (distance is close to 1 on the histogram). This is probably a reflection of the almost trivial 2 clusters we can see in the dendogram. It's possible that more data on the movies in each cluster will reveal a straight forward way to split our recommendation problem into 2 separate, smaller problems:  if, for example, the clusters here turn out to be something like \"drama\" vs. \"comedy\" movies clusters this would suggest that there are separate groups of users that typically rate one genre (either \"comedy\" or \"drama\") and that only a few users rate both. We can then think of building separate recommendation systems based on this fact."
   ]
  },
  {
   "cell_type": "markdown",
   "metadata": {},
   "source": [
    "For the purpose of this demonstration we keep a single system, but such insights reflect the importance of looking at your data..."
   ]
  },
  {
   "cell_type": "markdown",
   "metadata": {},
   "source": [
    "### Rules for similarity based recommendations"
   ]
  },
  {
   "cell_type": "markdown",
   "metadata": {},
   "source": [
    "There are several strategies for picking the products we want to recommend based on product similarity, but essentially we need to make several choices\n",
    "1. What products we look at: all the products the user rated? Only products with $n$ stars or more? Or do we weights the distances by the number of stars? And even with weights - do 1 star reviews have a positive weight or should we give a low number of stars a negative weight? \n",
    "2. How do we aggregate the distances? Say the user only rated 2 products, and both of them are similar to product $j$. Do we rank product $j$ compared to all the other products that have some similarity to the 2 rated products? Do we sum up distances for each product and rank? Do we take $min$/$max$/... distance for each product?\n",
    "3. What would be the threshold for a product to be recommended? This is dependent on practical limitations, e.g. what's the minimum/maximum number of products we have to/can recommend, and what is the distribution of distances and other considerations (e.g. do we want an absolute threshold of similarity and not just the top 5)"
   ]
  },
  {
   "cell_type": "markdown",
   "metadata": {},
   "source": [
    "Looking at the second choice we have to make: there's one huge advantage to summing up distances over picking min/max or other aggregation methods - __we can use matrix multiplication!__"
   ]
  },
  {
   "cell_type": "markdown",
   "metadata": {},
   "source": [
    "### Example 1\n",
    "We decide to look at all the movies a user rated (no matter what the rating was) and sum up the similarities to other products, and recommend the top 5 most similar products (regardless of the absolute level of similarity - in this example we _have_ to recommend exactly 5 products, no matter what)"
   ]
  },
  {
   "cell_type": "markdown",
   "metadata": {},
   "source": [
    "We define \n",
    "1. The symmetric matrix $P$ containing product to product distances as we calculated above (our `product_dist` matrix based on `cosine` distance)\n",
    "2. A matrix with binary values $C$"
   ]
  },
  {
   "cell_type": "markdown",
   "metadata": {},
   "source": [
    "\\begin{equation*}\n",
    "    C_{I \\times J} = \\left[ \n",
    "        \\begin{array}{lll}\n",
    "            c_{1,1} & \\ldots & c_{1,J} \\\\\n",
    "            \\vdots  & \\ddots & \\vdots  \\\\\n",
    "            c_{J,1} & \\ldots & c_{J,J}\n",
    "        \\end{array}\n",
    "    \\right]\n",
    "\\end{equation*}\n",
    "where\n",
    "\\begin{equation*}\n",
    "    c_{i,j} = \n",
    "    \\left\\{\n",
    "        \\begin{array}{ll}\n",
    "          1 & R_{i,j} > 0 \\\\\n",
    "          0 & \\text{otherwise}\n",
    "        \\end{array}\n",
    "    \\right.\n",
    "\\end{equation*}"
   ]
  },
  {
   "cell_type": "markdown",
   "metadata": {},
   "source": [
    "For every user $i$ we want to look at all rated products, and find the distances from other products. This can be written as a sparse matrix, where only rows matching rated products will have non-zero values:"
   ]
  },
  {
   "cell_type": "markdown",
   "metadata": {},
   "source": [
    "\\begin{equation*}\n",
    "   M^{(i)}_{J \\times J} =  \\left[\n",
    "        \\begin{array}{lll}\n",
    "            c_{i,1} p_{1,1} & \\ldots & c_{i,1} p_{1,J} \\\\\n",
    "            \\vdots  & \\ddots & \\vdots  \\\\\n",
    "            c_{i,J} p_{J,1} & \\ldots & c_{i,J} p_{J,J}\n",
    "        \\end{array}\n",
    "    \\right]\n",
    "\\end{equation*}"
   ]
  },
  {
   "cell_type": "markdown",
   "metadata": {},
   "source": [
    "And if our way to rank products is to sum up distances, we can sum up across columns, to get $\\left( \\sum_{k =1}^{J} c_{i,k} p_{k,1} , \\ldots, \\sum_{k=1}^{J}  c_{i,k} p_{k,J} \\right)$, which is simply the $i$'th rows of the matrix $CP$. "
   ]
  },
  {
   "cell_type": "markdown",
   "metadata": {},
   "source": [
    "Naturally, some of the products we see in this list with non-zero weight have already been encountered by the user (rated, viewed or purchased, depending on the context), so we would not want to recommend them at all. We can eliminate these products [element-by-element product](https://en.wikipedia.org/wiki/Hadamard_product) with the matrix $(1 - C)$, so our final matrix is:"
   ]
  },
  {
   "cell_type": "markdown",
   "metadata": {},
   "source": [
    "\\begin{equation*}\n",
    "   CP \\circ \\left( 1 - C \\right)\n",
    "\\end{equation*}"
   ]
  },
  {
   "cell_type": "markdown",
   "metadata": {},
   "source": [
    "which we calculate as:"
   ]
  },
  {
   "cell_type": "code",
   "execution_count": 13,
   "metadata": {},
   "outputs": [],
   "source": [
    "CP = (data_mat > 0).dot(product_dist) \n",
    "CP.columns = data_mat.columns"
   ]
  },
  {
   "cell_type": "code",
   "execution_count": 14,
   "metadata": {},
   "outputs": [],
   "source": [
    "user_prod_weights = CP * (data_mat == 0)"
   ]
  },
  {
   "cell_type": "markdown",
   "metadata": {},
   "source": [
    "For practical reasons we need to work with the long format, and we can filter all zero weights:"
   ]
  },
  {
   "cell_type": "code",
   "execution_count": 15,
   "metadata": {},
   "outputs": [],
   "source": [
    "user_rec = pd.DataFrame({'dist': user_prod_weights.T.unstack()})\n",
    "user_rec = user_rec.loc[user_rec['dist'] > 0, ]"
   ]
  },
  {
   "cell_type": "code",
   "execution_count": 16,
   "metadata": {},
   "outputs": [
    {
     "name": "stdout",
     "output_type": "stream",
     "text": [
      "long format has 1486126 rows, which is 93.7 % of all possible 1586126 combinations\n"
     ]
    }
   ],
   "source": [
    "print(\n",
    "    'long format has', \n",
    "    user_rec.shape[0], \n",
    "    'rows, which is', \n",
    "    round(100.0 * user_rec.shape[0] / (data_mat.shape[0] * data_mat.shape[1]), 2), \n",
    "    '% of all possible',\n",
    "    data_mat.shape[0] * data_mat.shape[1],\n",
    "    'combinations'\n",
    ")"
   ]
  },
  {
   "cell_type": "markdown",
   "metadata": {},
   "source": [
    "This did not save much space (our distance matrix is not very sparse and there's a lot of overlap in user preference) but at least we easily can pull out only the top 5 most similar products (or apply any other selection rule). These can be exported back to our production system (as CSV, to the production DB or wrapped with a micro-service)"
   ]
  },
  {
   "cell_type": "code",
   "execution_count": 17,
   "metadata": {},
   "outputs": [
    {
     "data": {
      "text/html": [
       "<div>\n",
       "<style scoped>\n",
       "    .dataframe tbody tr th:only-of-type {\n",
       "        vertical-align: middle;\n",
       "    }\n",
       "\n",
       "    .dataframe tbody tr th {\n",
       "        vertical-align: top;\n",
       "    }\n",
       "\n",
       "    .dataframe thead th {\n",
       "        text-align: right;\n",
       "    }\n",
       "</style>\n",
       "<table border=\"1\" class=\"dataframe\">\n",
       "  <thead>\n",
       "    <tr style=\"text-align: right;\">\n",
       "      <th></th>\n",
       "      <th></th>\n",
       "      <th>user id</th>\n",
       "      <th>item id</th>\n",
       "      <th>dist</th>\n",
       "    </tr>\n",
       "    <tr>\n",
       "      <th>user id</th>\n",
       "      <th></th>\n",
       "      <th></th>\n",
       "      <th></th>\n",
       "      <th></th>\n",
       "    </tr>\n",
       "  </thead>\n",
       "  <tbody>\n",
       "    <tr>\n",
       "      <th rowspan=\"5\" valign=\"top\">1</th>\n",
       "      <th>0</th>\n",
       "      <td>1</td>\n",
       "      <td>423</td>\n",
       "      <td>166.698694</td>\n",
       "    </tr>\n",
       "    <tr>\n",
       "      <th>1</th>\n",
       "      <td>1</td>\n",
       "      <td>568</td>\n",
       "      <td>172.278031</td>\n",
       "    </tr>\n",
       "    <tr>\n",
       "      <th>2</th>\n",
       "      <td>1</td>\n",
       "      <td>403</td>\n",
       "      <td>172.942901</td>\n",
       "    </tr>\n",
       "    <tr>\n",
       "      <th>3</th>\n",
       "      <td>1</td>\n",
       "      <td>385</td>\n",
       "      <td>173.164740</td>\n",
       "    </tr>\n",
       "    <tr>\n",
       "      <th>4</th>\n",
       "      <td>1</td>\n",
       "      <td>655</td>\n",
       "      <td>174.381426</td>\n",
       "    </tr>\n",
       "    <tr>\n",
       "      <th rowspan=\"5\" valign=\"top\">2</th>\n",
       "      <th>0</th>\n",
       "      <td>2</td>\n",
       "      <td>181</td>\n",
       "      <td>41.050099</td>\n",
       "    </tr>\n",
       "    <tr>\n",
       "      <th>1</th>\n",
       "      <td>2</td>\n",
       "      <td>117</td>\n",
       "      <td>41.716102</td>\n",
       "    </tr>\n",
       "    <tr>\n",
       "      <th>2</th>\n",
       "      <td>2</td>\n",
       "      <td>121</td>\n",
       "      <td>41.753120</td>\n",
       "    </tr>\n",
       "    <tr>\n",
       "      <th>3</th>\n",
       "      <td>2</td>\n",
       "      <td>7</td>\n",
       "      <td>41.850288</td>\n",
       "    </tr>\n",
       "    <tr>\n",
       "      <th>4</th>\n",
       "      <td>2</td>\n",
       "      <td>405</td>\n",
       "      <td>42.615908</td>\n",
       "    </tr>\n",
       "    <tr>\n",
       "      <th rowspan=\"5\" valign=\"top\">3</th>\n",
       "      <th>0</th>\n",
       "      <td>3</td>\n",
       "      <td>313</td>\n",
       "      <td>36.739147</td>\n",
       "    </tr>\n",
       "    <tr>\n",
       "      <th>1</th>\n",
       "      <td>3</td>\n",
       "      <td>286</td>\n",
       "      <td>38.462025</td>\n",
       "    </tr>\n",
       "    <tr>\n",
       "      <th>2</th>\n",
       "      <td>3</td>\n",
       "      <td>748</td>\n",
       "      <td>39.130360</td>\n",
       "    </tr>\n",
       "    <tr>\n",
       "      <th>3</th>\n",
       "      <td>3</td>\n",
       "      <td>315</td>\n",
       "      <td>39.378568</td>\n",
       "    </tr>\n",
       "    <tr>\n",
       "      <th>4</th>\n",
       "      <td>3</td>\n",
       "      <td>269</td>\n",
       "      <td>39.461256</td>\n",
       "    </tr>\n",
       "  </tbody>\n",
       "</table>\n",
       "</div>"
      ],
      "text/plain": [
       "           user id  item id        dist\n",
       "user id                                \n",
       "1       0        1      423  166.698694\n",
       "        1        1      568  172.278031\n",
       "        2        1      403  172.942901\n",
       "        3        1      385  173.164740\n",
       "        4        1      655  174.381426\n",
       "2       0        2      181   41.050099\n",
       "        1        2      117   41.716102\n",
       "        2        2      121   41.753120\n",
       "        3        2        7   41.850288\n",
       "        4        2      405   42.615908\n",
       "3       0        3      313   36.739147\n",
       "        1        3      286   38.462025\n",
       "        2        3      748   39.130360\n",
       "        3        3      315   39.378568\n",
       "        4        3      269   39.461256"
      ]
     },
     "execution_count": 17,
     "metadata": {},
     "output_type": "execute_result"
    }
   ],
   "source": [
    "user_rec.\\\n",
    "groupby(user_rec.index.get_level_values(0)).\\\n",
    "apply(\n",
    "    lambda x: x.sort_values(by = 'dist').head(5).reset_index()\n",
    ").head(15)"
   ]
  },
  {
   "cell_type": "markdown",
   "metadata": {},
   "source": [
    "## User similarity based recommendations"
   ]
  },
  {
   "cell_type": "code",
   "execution_count": 18,
   "metadata": {},
   "outputs": [],
   "source": [
    "user_dist = pairwise_distances(X = data_mat, metric = 'cosine')"
   ]
  },
  {
   "cell_type": "code",
   "execution_count": 19,
   "metadata": {},
   "outputs": [
    {
     "name": "stdout",
     "output_type": "stream",
     "text": [
      "Distance Matrix Details\n",
      "=======================\n",
      "\n",
      "* have have 943 identical items (with distance = 0), and 15075 with no common ratings (distance = 1)\n",
      "\n",
      "* Percentiles:\n",
      "count    446038.000000\n",
      "mean          0.826180\n",
      "std           0.124427\n",
      "min           0.000000\n",
      "25%           0.753425\n",
      "50%           0.848349\n",
      "75%           0.920774\n",
      "max           1.000000\n",
      "dtype: float64 \n",
      "\n"
     ]
    },
    {
     "name": "stderr",
     "output_type": "stream",
     "text": [
      "/usr/local/lib/python3.6/dist-packages/matplotlib/axes/_axes.py:6462: UserWarning: The 'normed' kwarg is deprecated, and has been replaced by the 'density' kwarg.\n",
      "  warnings.warn(\"The 'normed' kwarg is deprecated, and has been \"\n",
      "/usr/local/lib/python3.6/dist-packages/scipy/cluster/hierarchy.py:482: ClusterWarning: scipy.cluster: The symmetric non-negative hollow observation matrix looks suspiciously like an uncondensed distance matrix\n",
      "  return linkage(y, method='ward', metric='euclidean')\n"
     ]
    },
    {
     "data": {
      "image/png": "[encoded data removed]",
      "text/plain": [
       "<Figure size 432x288 with 1 Axes>"
      ]
     },
     "metadata": {},
     "output_type": "display_data"
    },
    {
     "data": {
      "image/png": "[encoded data removed]",
      "text/plain": [
       "<Figure size 432x288 with 1 Axes>"
      ]
     },
     "metadata": {},
     "output_type": "display_data"
    }
   ],
   "source": [
    "vis_dist_mat(user_dist)"
   ]
  },
  {
   "cell_type": "markdown",
   "metadata": {},
   "source": [
    "As a reflection of our finding on products we see again 2 major clusters, and again we can consider splitting the problem in 2. In any case the next steps are to find the the top $n$ most similar users (in general or within their cluster) and select the products these users liked most."
   ]
  },
  {
   "cell_type": "markdown",
   "metadata": {},
   "source": [
    "# Collaborative Filtering\n",
    "Since the above solution does not scale up well with the number of users $I$ or the number of products $J$, we may want to explore dimensionality reduction methods. In this case we try to find 2 lower dimension matrices $P_{I,K}, Q_{K,J}$ such that our original user X product matrix $R_{I,J}$ can be approximated by $PQ$. By setting $K$ to be relatively low we can tightly control the dimensionality of the problem."
   ]
  },
  {
   "cell_type": "markdown",
   "metadata": {},
   "source": [
    "## Parameters"
   ]
  },
  {
   "cell_type": "code",
   "execution_count": 20,
   "metadata": {},
   "outputs": [],
   "source": [
    "K = 2\n",
    "iterations = 1000\n",
    "tolerance = 0.05\n",
    "alpha = 0.0001"
   ]
  },
  {
   "cell_type": "markdown",
   "metadata": {},
   "source": [
    "## Simple Gradient Descent"
   ]
  },
  {
   "cell_type": "markdown",
   "metadata": {},
   "source": [
    "### Initialize"
   ]
  },
  {
   "cell_type": "code",
   "execution_count": 21,
   "metadata": {},
   "outputs": [],
   "source": [
    "R = np.array(data_mat)\n",
    "P = np.random.normal(scale=1./K, size=(R.shape[0], K))\n",
    "Q = np.random.normal(scale=1./K, size=(K, R.shape[1]))"
   ]
  },
  {
   "cell_type": "code",
   "execution_count": 22,
   "metadata": {},
   "outputs": [],
   "source": [
    "training_process = pd.DataFrame(columns=['iteration', 'mse'])\n",
    "t = 1\n",
    "mse_prev = 0\n",
    "mse = 1e6"
   ]
  },
  {
   "cell_type": "markdown",
   "metadata": {},
   "source": [
    "### Gradient Descent"
   ]
  },
  {
   "cell_type": "code",
   "execution_count": 23,
   "metadata": {},
   "outputs": [
    {
     "name": "stdout",
     "output_type": "stream",
     "text": [
      "Iteration: 50 ; error = 987481.6666\n",
      "Iteration: 100 ; error = 956927.5727\n",
      "Iteration: 150 ; error = 931563.7105\n",
      "Iteration: 200 ; error = 913442.9126\n",
      "Iteration: 250 ; error = 909989.2287\n",
      "Iteration: 300 ; error = 908184.9932\n",
      "Iteration: 350 ; error = 906636.4827\n",
      "Iteration: 400 ; error = 905339.8121\n",
      "Iteration: 450 ; error = 904344.0121\n",
      "Iteration: 500 ; error = 903635.4785\n",
      "Iteration: 550 ; error = 903159.1349\n",
      "Iteration: 600 ; error = 902851.1097\n",
      "Iteration: 650 ; error = 902656.9293\n",
      "Iteration: 700 ; error = 902536.4770\n",
      "Iteration: 750 ; error = 902462.5063\n",
      "Iteration: 800 ; error = 902417.3605\n",
      "Iteration: 850 ; error = 902389.9110\n",
      "Iteration: 900 ; error = 902373.2597\n",
      "Iteration: 950 ; error = 902363.1728\n",
      "Iteration: 1000 ; error = 902357.0676\n"
     ]
    }
   ],
   "source": [
    "while t <= iterations and abs(mse - mse_prev) > tolerance:\n",
    "    mse_prev = mse\n",
    "    \n",
    "    ## Error matrix\n",
    "    error = R - P.dot(Q)\n",
    "\n",
    "    ## Update down the gradient\n",
    "    P = P + 2 * alpha * error.dot(Q.T)\n",
    "    Q = Q + 2 * alpha * P.T.dot(error)\n",
    "\n",
    "    mse = np.power(error, 2).sum()\n",
    "    training_process = training_process.append(pd.DataFrame({'iteration': [t], 'mse': [mse]}))\n",
    "\n",
    "    if (t+1) % 50 == 0:\n",
    "        print(\"Iteration: %d ; error = %.4f\" % (t+1, mse))\n",
    "    t += 1"
   ]
  },
  {
   "cell_type": "code",
   "execution_count": 24,
   "metadata": {},
   "outputs": [],
   "source": [
    "training_process.set_index('iteration', inplace=True)"
   ]
  },
  {
   "cell_type": "code",
   "execution_count": 25,
   "metadata": {},
   "outputs": [
    {
     "data": {
      "text/plain": [
       "Text(0.5,1,'Algorithm progress')"
      ]
     },
     "execution_count": 25,
     "metadata": {},
     "output_type": "execute_result"
    },
    {
     "data": {
      "image/png": "[encoded data removed]",
      "text/plain": [
       "<Figure size 432x288 with 1 Axes>"
      ]
     },
     "metadata": {},
     "output_type": "display_data"
    }
   ],
   "source": [
    "plt.figure()\n",
    "plt.plot(training_process['mse'])\n",
    "plt.title('Algorithm progress')"
   ]
  },
  {
   "cell_type": "markdown",
   "metadata": {},
   "source": [
    "## Regularisation"
   ]
  },
  {
   "cell_type": "markdown",
   "metadata": {},
   "source": [
    "TBD\n",
    "* Add a penalty on the values of $P,Q$ to avoid extreme solutions and over-fitting. We can use the $L2$ norm $\\| Q \\|_{2} +\\| P \\|_{2} = \\sqrt{\\sum q_{i,j}^2} + \\sqrt{\\sum p_{i,j}^2}$) or the $L1$ norm $\\| Q \\|_{1} +\\| P \\|_{1} = \\sum \\left| q_{i,j} \\right| + \\sum \\left| p_{i,j} \\right| $ as a penalty on our MSE goal function by adding a penalty coeff $\\gamma$ on the MSE goal function and optimizing $MSE - \\gamma (\\|P\\| + \\|Q\\|)$ \n",
    "* This probably requires some form of normalization of $P,Q$ prior to optimization "
   ]
  },
  {
   "cell_type": "markdown",
   "metadata": {},
   "source": [
    "## Stochastic GD"
   ]
  },
  {
   "cell_type": "markdown",
   "metadata": {},
   "source": [
    "TBD"
   ]
  },
  {
   "cell_type": "markdown",
   "metadata": {},
   "source": [
    "## User/product clusters"
   ]
  },
  {
   "cell_type": "markdown",
   "metadata": {},
   "source": [
    "Since we picked $K=2$ we can actually visualize our results "
   ]
  },
  {
   "cell_type": "code",
   "execution_count": 26,
   "metadata": {},
   "outputs": [
    {
     "data": {
      "text/plain": [
       "Text(0.5,1,'Product dimensions')"
      ]
     },
     "execution_count": 26,
     "metadata": {},
     "output_type": "execute_result"
    },
    {
     "data": {
      "image/png": "[encoded data removed]",
      "text/plain": [
       "<Figure size 432x288 with 1 Axes>"
      ]
     },
     "metadata": {},
     "output_type": "display_data"
    }
   ],
   "source": [
    "plt.figure()\n",
    "plt.scatter(x = Q[0:1], y = Q[1:])\n",
    "plt.title('Product dimensions')"
   ]
  },
  {
   "cell_type": "code",
   "execution_count": 27,
   "metadata": {},
   "outputs": [
    {
     "data": {
      "text/plain": [
       "Text(0.5,1,'User dimensions')"
      ]
     },
     "execution_count": 27,
     "metadata": {},
     "output_type": "execute_result"
    },
    {
     "data": {
      "image/png": "[encoded data removed]",
      "text/plain": [
       "<Figure size 432x288 with 1 Axes>"
      ]
     },
     "metadata": {},
     "output_type": "display_data"
    }
   ],
   "source": [
    "plt.figure()\n",
    "plt.scatter(x = P.T[0:1], y = P.T[1:])\n",
    "plt.title('User dimensions')"
   ]
  },
  {
   "cell_type": "markdown",
   "metadata": {},
   "source": [
    "And of course the fact we do not see a good separation as we've seen before suggests we need to increase $K$. For higher dimensions we can use both clustering methods or more dimension reduction techniques (e.g. t-SNE) to try and find clusters of users. "
   ]
  },
  {
   "cell_type": "markdown",
   "metadata": {},
   "source": [
    "## Calculating recommendations"
   ]
  },
  {
   "cell_type": "markdown",
   "metadata": {},
   "source": [
    "We can now use the embedding matrices $P,Q$ to generate recommendations in a similar way to what we did before, except similarity of product or user is now defined by the Euclidian distances defined by $Q$ or $P$ respectively:"
   ]
  },
  {
   "cell_type": "code",
   "execution_count": 28,
   "metadata": {},
   "outputs": [],
   "source": [
    "product_dist = pairwise_distances(Q.T, metric='euclidean')\n",
    "user_dist = pairwise_distances(P, metric='euclidean')"
   ]
  },
  {
   "cell_type": "markdown",
   "metadata": {},
   "source": [
    "# Finally, a note on scalability\n",
    "What if we now have millions of users and hundred of thousands of products?\n",
    "Tracing our steps, we can see that different strategies for scaling-up the solution can apply to different stage:"
   ]
  },
  {
   "cell_type": "markdown",
   "metadata": {},
   "source": [
    "1. __Data storage__ (of the `(user, product, rating,....)` tuples): can be done on a scalable framework like Spark or Dusk\n",
    "\n",
    "\n",
    "2. __Distance matrix__: The full calculation between every pair of users / products is extremely expensive, but [embarrassingly parallel](https://en.wikipedia.org/wiki/Embarrassingly_parallel). If there are a lot of connections this will require a lot of memory to store (either as a matrix or as a list of all user pairs and the distance between them) but this can be somewhat relieved by using smart data structures that will take into account symmetry (we only need the upper triangle of the distance matrix) and [sparsity](https://en.wikipedia.org/wiki/Sparse_matrix) (in practice the distance matrix is mostly 0's, especially as the number of products grows). The example above shows that even simple cases may be not very sparse. \n",
    "\n",
    "\n",
    "3. __Collaborative filtering__: This a possible solution to the dimension problem! We can carefully control the size of the similarity matrices $P,Q$ with the parameter $K$, and we should explore the trade-off between scale and accuracy by observing the changes to $MSE$ of the optimal solutions for different values of $K$. In addition, although the algorithm is written in matrix form for speed and simplicity, the update of the derivative can be written as independent iterations over $I$ (number of users) and $J$ (number of products) that can be calculated in parallel (due to the additive nature of the problem). There are other approaches (e.g. sampling based) for similarity calculation but they are outside the scope of this post. "
   ]
  },
  {
   "cell_type": "markdown",
   "metadata": {},
   "source": [
    "Happy hunting!"
   ]
  }
 ],
 "metadata": {
  "kernelspec": {
   "display_name": "Python 3",
   "language": "python",
   "name": "python3"
  },
  "language_info": {
   "codemirror_mode": {
    "name": "ipython",
    "version": 3
   },
   "file_extension": ".py",
   "mimetype": "text/x-python",
   "name": "python",
   "nbconvert_exporter": "python",
   "pygments_lexer": "ipython3",
   "version": "3.6.5"
  },
  "toc": {
   "base_numbering": 1,
   "nav_menu": {},
   "number_sections": true,
   "sideBar": true,
   "skip_h1_title": false,
   "title_cell": "Table of Contents",
   "title_sidebar": "Contents",
   "toc_cell": true,
   "toc_position": {},
   "toc_section_display": true,
   "toc_window_display": true
  },
  "varInspector": {
   "cols": {
    "lenName": 16,
    "lenType": 16,
    "lenVar": 40
   },
   "kernels_config": {
    "python": {
     "delete_cmd_postfix": "",
     "delete_cmd_prefix": "del ",
     "library": "var_list.py",
     "varRefreshCmd": "print(var_dic_list())"
    },
    "r": {
     "delete_cmd_postfix": ") ",
     "delete_cmd_prefix": "rm(",
     "library": "var_list.r",
     "varRefreshCmd": "cat(var_dic_list()) "
    }
   },
   "types_to_exclude": [
    "module",
    "function",
    "builtin_function_or_method",
    "instance",
    "_Feature"
   ],
   "window_display": false
  }
 },
 "nbformat": 4,
 "nbformat_minor": 2
}
