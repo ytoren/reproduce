{
 "cells": [
  {
   "cell_type": "markdown",
   "metadata": {},
   "source": [
    "# A simple implementation of genetic algorithms in Python"
   ]
  },
  {
   "cell_type": "markdown",
   "metadata": {},
   "source": [
    "From [here](https://www.kdnuggets.com/2018/07/genetic-algorithm-implementation-python.html), "
   ]
  },
  {
   "cell_type": "code",
   "execution_count": 1,
   "metadata": {},
   "outputs": [],
   "source": [
    "import numpy as np\n",
    "import pandas as pd\n",
    "from itertools import product\n",
    "import matplotlib.pyplot as plt\n",
    "%matplotlib inline  "
   ]
  },
  {
   "cell_type": "markdown",
   "metadata": {},
   "source": [
    "## Parametrisation"
   ]
  },
  {
   "cell_type": "code",
   "execution_count": 2,
   "metadata": {},
   "outputs": [],
   "source": [
    "w = [4,-2,3.5,5,-11,-4.7] \n",
    "m = len(w) # number of features\n",
    "n = 100 # population size\n",
    "p = 15 # mating poopulation size\n",
    "\n",
    "## Mutation: rate (probability of mutation at a location) and range (scale of mutation when it happens)\n",
    "mutation_rate = 0.01\n",
    "mutation_range = (-0.001,0.001)\n",
    "\n",
    "n_generations = 500\n",
    "\n",
    "## weights for the problem\n",
    "\n",
    "pop_shape = [n,m]\n",
    "pop_range = (-0.004,0.004)"
   ]
  },
  {
   "cell_type": "markdown",
   "metadata": {},
   "source": [
    "_Testing_: Parent population size must be sufficiently large. See explanations below"
   ]
  },
  {
   "cell_type": "code",
   "execution_count": 3,
   "metadata": {},
   "outputs": [],
   "source": [
    "assert p**2 >= n, 'p is too small for this setup, please choose a value of at least %r' % (int(np.ceil(np.sqrt(n))))"
   ]
  },
  {
   "cell_type": "markdown",
   "metadata": {},
   "source": [
    "## A single iteration, annotated"
   ]
  },
  {
   "cell_type": "markdown",
   "metadata": {},
   "source": [
    "### Population\n",
    "We start by sampling our initial \"population\" of weight vectors, based on the weights and ranges we defined before:"
   ]
  },
  {
   "cell_type": "code",
   "execution_count": 4,
   "metadata": {},
   "outputs": [],
   "source": [
    "new_population = \\\n",
    "np.random.uniform(\n",
    "    low =  1.0 * min(pop_range), \n",
    "    high = 1.0 * max(pop_range), \n",
    "    size = pop_shape\n",
    ")"
   ]
  },
  {
   "cell_type": "markdown",
   "metadata": {},
   "source": [
    "We expect to see a uniform distribution of the weights (shown here as a single long vector)"
   ]
  },
  {
   "cell_type": "code",
   "execution_count": 5,
   "metadata": {},
   "outputs": [
    {
     "data": {
      "text/plain": [
       "<matplotlib.axes._subplots.AxesSubplot at 0x11e887eb8>"
      ]
     },
     "execution_count": 5,
     "metadata": {},
     "output_type": "execute_result"
    },
    {
     "data": {
      "image/png": "[encoded data removed]",
      "text/plain": [
       "<Figure size 432x288 with 1 Axes>"
      ]
     },
     "metadata": {},
     "output_type": "display_data"
    }
   ],
   "source": [
    "pd.Series(new_population.flatten()).plot(kind = 'hist')"
   ]
  },
  {
   "cell_type": "markdown",
   "metadata": {},
   "source": [
    "### Fitness \n",
    "In order to select the best parents for breeding, we have to introduce the concept of _fitness_. In biology this would be a measure (or measures) of how well do the parents fit their environments. In our case we simply want to choose the parents the perform best against our pre-defined set of weights $w$. \n",
    "We want to make sure that fitness is bounded (from both ends) so we use the logistic function:\n",
    "$$ \\text{fitness}(x_i) = logit(x_i^T w) = \\frac{1}{1 + exp(- x_i^T w)} $$"
   ]
  },
  {
   "cell_type": "code",
   "execution_count": 6,
   "metadata": {},
   "outputs": [],
   "source": [
    "def fitness_calc(w, pop):\n",
    "    return 1 / (1 + np.exp(-1 * np.sum(pop * w, axis = 1)))"
   ]
  },
  {
   "cell_type": "markdown",
   "metadata": {},
   "source": [
    "And for our initial sample we can calculate the fitness score of each individual"
   ]
  },
  {
   "cell_type": "code",
   "execution_count": 7,
   "metadata": {},
   "outputs": [
    {
     "data": {
      "text/plain": [
       "<matplotlib.axes._subplots.AxesSubplot at 0x1209987f0>"
      ]
     },
     "execution_count": 7,
     "metadata": {},
     "output_type": "execute_result"
    },
    {
     "data": {
      "image/png": "[encoded data removed]",
      "text/plain": [
       "<Figure size 432x288 with 1 Axes>"
      ]
     },
     "metadata": {},
     "output_type": "display_data"
    }
   ],
   "source": [
    "fitness = fitness_calc(w, new_population)\n",
    "pd.Series(fitness).plot(kind = 'hist')"
   ]
  },
  {
   "cell_type": "markdown",
   "metadata": {},
   "source": [
    "### Parents\n",
    "And pick the `p` rows in our current population with the highest fitness for mating (we call them \"parents\"):"
   ]
  },
  {
   "cell_type": "code",
   "execution_count": 8,
   "metadata": {},
   "outputs": [],
   "source": [
    "parents = new_population[(-1*fitness).argsort(), :][range(p),:]"
   ]
  },
  {
   "cell_type": "markdown",
   "metadata": {},
   "source": [
    "We look at all possible pairs (excluding matching a single parent with themselves)"
   ]
  },
  {
   "cell_type": "code",
   "execution_count": 9,
   "metadata": {},
   "outputs": [],
   "source": [
    "potential_parent_pairs = np.asarray(list(product(range(p),range(p))))\n",
    "\n",
    "potential_parent_pairs = \\\n",
    "potential_parent_pairs[\n",
    "    np.apply_along_axis(\n",
    "        func1d = lambda x: x[0] != x[1],  # only if parents are different\n",
    "        axis = 1, \n",
    "        arr = potential_parent_pairs\n",
    "    ),\n",
    "    :\n",
    "]"
   ]
  },
  {
   "cell_type": "markdown",
   "metadata": {},
   "source": [
    "We pick \"randomly\" pick `n-p` pairs of parents (seed is set here for reproducibility). \n",
    "_Note:_ We make an assumption here that the number of potential parent pairs $p(p-1)$ is greater or equal to the number of offsprings we need to create to re-populate the next generation (which is $n-p$, assuming we only keep the parents and some of their offsprings) so we are in fact assuming that $p^2 \\geq n$ (see the `assert` clause at the beginning of the code)"
   ]
  },
  {
   "cell_type": "code",
   "execution_count": 10,
   "metadata": {},
   "outputs": [],
   "source": [
    "np.random.seed(seed=12345)\n",
    "rand_index = np.random.choice(potential_parent_pairs.shape[0], n-p, replace=False) \n",
    "parent_pairs_ind = potential_parent_pairs[rand_index,:]"
   ]
  },
  {
   "cell_type": "markdown",
   "metadata": {},
   "source": [
    "### Mating \n",
    "And we pair the selected parents by \"splicing\" their weights and adding children to the new population"
   ]
  },
  {
   "cell_type": "code",
   "execution_count": 11,
   "metadata": {},
   "outputs": [],
   "source": [
    "crossover_point = int(np.floor(m/2))\n",
    "new_population = parents\n",
    "\n",
    "for i,j in parent_pairs_ind:\n",
    "    #print('this part', parents[i, 0:crossover_point])\n",
    "    #print('with this part', parents[j, crossover_point:])\n",
    "    #print('makes:', np.concatenate((parents[i, 0:crossover_point], parents[j, crossover_point:])))\n",
    "    new_population = \\\n",
    "    np.vstack((\n",
    "        new_population, \n",
    "        np.concatenate((parents[i, 0:crossover_point], parents[j, crossover_point:]))\n",
    "    ))"
   ]
  },
  {
   "cell_type": "markdown",
   "metadata": {},
   "source": [
    "### Mutation\n",
    "And finally let's introduce some mutation: with probability `mutation_rate` we add a random fluctuation to the weight:"
   ]
  },
  {
   "cell_type": "code",
   "execution_count": 12,
   "metadata": {},
   "outputs": [],
   "source": [
    "#np.random.seed(seed=12345)\n",
    "mutation_places = \\\n",
    "np.random.binomial(\n",
    "    n = 1, \n",
    "    p = mutation_rate, \n",
    "    size = new_population.shape[0] * new_population.shape[1]\n",
    ")\n",
    "\n",
    "mutation_values = \\\n",
    "np.random.uniform(\n",
    "    high = max(mutation_range), \n",
    "    low = min(mutation_range), \n",
    "    size = new_population.shape[0] * new_population.shape[1]\n",
    ")"
   ]
  },
  {
   "cell_type": "code",
   "execution_count": 13,
   "metadata": {},
   "outputs": [],
   "source": [
    "new_population = new_population + np.reshape(mutation_values * mutation_places, newshape = new_population.shape)"
   ]
  },
  {
   "cell_type": "markdown",
   "metadata": {},
   "source": [
    "### Re-evaluation\n",
    "We can now re-evaluate if the new population has better candidates"
   ]
  },
  {
   "cell_type": "code",
   "execution_count": 14,
   "metadata": {},
   "outputs": [
    {
     "data": {
      "text/plain": [
       "<matplotlib.axes._subplots.AxesSubplot at 0x120955be0>"
      ]
     },
     "execution_count": 14,
     "metadata": {},
     "output_type": "execute_result"
    },
    {
     "data": {
      "image/png": "[encoded data removed]",
      "text/plain": [
       "<Figure size 432x288 with 1 Axes>"
      ]
     },
     "metadata": {},
     "output_type": "display_data"
    }
   ],
   "source": [
    "fitness = fitness_calc(w, new_population)\n",
    "pd.Series(fitness).plot(kind = 'hist')"
   ]
  },
  {
   "cell_type": "markdown",
   "metadata": {},
   "source": [
    "## Let's iterate!"
   ]
  },
  {
   "cell_type": "markdown",
   "metadata": {},
   "source": [
    "We can create a simple `for` loop, but since we want to explore different mutation rates we'll wrap it in a function:"
   ]
  },
  {
   "cell_type": "code",
   "execution_count": 15,
   "metadata": {},
   "outputs": [],
   "source": [
    "def fitness_calc(w, pop):\n",
    "    return 1 / (1 + np.exp(-1 * np.sum(w * pop, axis = 1)))\n",
    "    \n",
    "def genetic_iter(pop, w, mutation_rate = 0.01, n_generations = 20, p  = 20):\n",
    "    \n",
    "    ## Collect best relust from each iteration\n",
    "    fitness_tracking = [np.max(fitness_calc(w, pop))]  \n",
    "    #print('starting from', fitness_tracking)\n",
    "    \n",
    "    for g in range(n_generations):\n",
    "        fitness = fitness_calc(w, pop) \n",
    "        #print(pd.Series(fitness).describe())\n",
    "\n",
    "        ## Select parents\n",
    "        parents = pop[(-1*fitness).argsort(), :][range(p),:]\n",
    "        #print('parents', parents)\n",
    "\n",
    "        ## Choose parent pairs\n",
    "        potential_parent_pairs = np.asarray(list(product(range(p),range(p))))\n",
    "\n",
    "        potential_parent_pairs = \\\n",
    "        potential_parent_pairs[\n",
    "            np.apply_along_axis(\n",
    "                func1d = lambda x: x[0] != x[1],  # only if parents are different\n",
    "                axis = 1, \n",
    "                arr = potential_parent_pairs\n",
    "            ),\n",
    "            :\n",
    "        ]\n",
    "\n",
    "        rand_index = np.random.choice(potential_parent_pairs.shape[0], pop.shape[0]-p, replace=False) \n",
    "        parent_pairs_ind = potential_parent_pairs[rand_index,:]\n",
    "\n",
    "        ## Mate parents\n",
    "        crossover_point = int(np.floor(pop.shape[1]/2))\n",
    "        pop = parents\n",
    "\n",
    "        for i,j in parent_pairs_ind:\n",
    "            #print('this part', parents[i, 0:crossover_point])\n",
    "            #print('with this part', parents[j, crossover_point:])\n",
    "            #print('makes:', np.concatenate((parents[i, 0:crossover_point], parents[j, crossover_point:])))\n",
    "            pop = \\\n",
    "            np.vstack((\n",
    "                pop, \n",
    "                np.concatenate((parents[i, 0:crossover_point], parents[j, crossover_point:]))\n",
    "            ))\n",
    "\n",
    "        ## Mutation\n",
    "        mutation_places = np.random.binomial(\n",
    "            n = 1, \n",
    "            p = mutation_rate, \n",
    "            size = pop.shape[0] * pop.shape[1]\n",
    "        )\n",
    "\n",
    "        mutation_values = np.random.uniform(\n",
    "            high = max(mutation_range)+1, \n",
    "            low = min(mutation_range), \n",
    "            size = pop.shape[0] * pop.shape[1]\n",
    "        )\n",
    "\n",
    "        pop = pop + np.reshape(mutation_values * mutation_places, newshape = pop.shape)\n",
    "        \n",
    "        fitness_tracking.append(np.max(fitness_calc(w, pop)))\n",
    "        \n",
    "    return fitness_tracking"
   ]
  },
  {
   "cell_type": "markdown",
   "metadata": {},
   "source": [
    "We reset the population to have a fresh start and run our function:"
   ]
  },
  {
   "cell_type": "code",
   "execution_count": 16,
   "metadata": {},
   "outputs": [],
   "source": [
    "new_population = np.random.uniform(low=min(pop_range), high=max(pop_range), size=pop_shape)"
   ]
  },
  {
   "cell_type": "markdown",
   "metadata": {},
   "source": [
    "And explore different rates of mutation"
   ]
  },
  {
   "cell_type": "code",
   "execution_count": 17,
   "metadata": {},
   "outputs": [],
   "source": [
    "def plot_mutation_rate_progress(mr):\n",
    "    return pd.Series(\n",
    "        genetic_iter(\n",
    "            pop = new_population, \n",
    "            w = w, \n",
    "            mutation_rate = mr, \n",
    "            p = p\n",
    "        )\n",
    "    ).plot(kind = 'line')"
   ]
  },
  {
   "cell_type": "code",
   "execution_count": 18,
   "metadata": {},
   "outputs": [
    {
     "data": {
      "text/plain": [
       "<matplotlib.axes._subplots.AxesSubplot at 0x120bde6a0>"
      ]
     },
     "execution_count": 18,
     "metadata": {},
     "output_type": "execute_result"
    },
    {
     "data": {
      "image/png": "[encoded data removed]",
      "text/plain": [
       "<Figure size 432x288 with 3 Axes>"
      ]
     },
     "metadata": {},
     "output_type": "display_data"
    }
   ],
   "source": [
    "plt.subplot(3,1,1)\n",
    "plot_mutation_rate_progress(0.001)\n",
    "plt.subplot(3,1,2)\n",
    "plot_mutation_rate_progress(0.01)\n",
    "plt.subplot(3,1,3)\n",
    "plot_mutation_rate_progress(0.1)"
   ]
  },
  {
   "cell_type": "markdown",
   "metadata": {},
   "source": [
    "Or the effect of the number of parents"
   ]
  },
  {
   "cell_type": "code",
   "execution_count": 19,
   "metadata": {},
   "outputs": [],
   "source": [
    "def plot_parent_progress(p):\n",
    "    return pd.Series(\n",
    "        genetic_iter(\n",
    "            pop = new_population, \n",
    "            w = w, \n",
    "            mutation_rate = 0.01, \n",
    "            p = p\n",
    "        )\n",
    "    ).plot(kind = 'line')"
   ]
  },
  {
   "cell_type": "code",
   "execution_count": 20,
   "metadata": {},
   "outputs": [
    {
     "data": {
      "text/plain": [
       "<matplotlib.axes._subplots.AxesSubplot at 0x120d42240>"
      ]
     },
     "execution_count": 20,
     "metadata": {},
     "output_type": "execute_result"
    },
    {
     "data": {
      "image/png": "[encoded data removed]",
      "text/plain": [
       "<Figure size 432x288 with 3 Axes>"
      ]
     },
     "metadata": {},
     "output_type": "display_data"
    }
   ],
   "source": [
    "plt.subplot(3,1,1)\n",
    "plot_parent_progress(10)\n",
    "plt.subplot(3,1,2)\n",
    "plot_parent_progress(11)\n",
    "plt.subplot(3,1,3)\n",
    "plot_parent_progress(12)"
   ]
  },
  {
   "cell_type": "markdown",
   "metadata": {},
   "source": [
    "## TODO\n",
    "* Non /semi random mating mechanism: maybe the best pick the one below them? or choose them with higher probability?  \n",
    "* Random splicing (sample x% of locations and mix) "
   ]
  }
 ],
 "metadata": {
  "kernelspec": {
   "display_name": "Python 3",
   "language": "python",
   "name": "python3"
  },
  "language_info": {
   "codemirror_mode": {
    "name": "ipython",
    "version": 3
   },
   "file_extension": ".py",
   "mimetype": "text/x-python",
   "name": "python",
   "nbconvert_exporter": "python",
   "pygments_lexer": "ipython3",
   "version": "3.7.0"
  },
  "toc": {
   "base_numbering": 1,
   "nav_menu": {},
   "number_sections": true,
   "sideBar": true,
   "skip_h1_title": true,
   "title_cell": "Table of Contents",
   "title_sidebar": "Contents",
   "toc_cell": false,
   "toc_position": {},
   "toc_section_display": true,
   "toc_window_display": true
  },
  "varInspector": {
   "cols": {
    "lenName": 16,
    "lenType": 16,
    "lenVar": 40
   },
   "kernels_config": {
    "python": {
     "delete_cmd_postfix": "",
     "delete_cmd_prefix": "del ",
     "library": "var_list.py",
     "varRefreshCmd": "print(var_dic_list())"
    },
    "r": {
     "delete_cmd_postfix": ") ",
     "delete_cmd_prefix": "rm(",
     "library": "var_list.r",
     "varRefreshCmd": "cat(var_dic_list()) "
    }
   },
   "types_to_exclude": [
    "module",
    "function",
    "builtin_function_or_method",
    "instance",
    "_Feature"
   ],
   "window_display": false
  }
 },
 "nbformat": 4,
 "nbformat_minor": 2
}
