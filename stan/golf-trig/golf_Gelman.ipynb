{
 "cells": [
  {
   "cell_type": "markdown",
   "metadata": {},
   "source": [
    "# PyStan: Golf case study\n",
    "\n",
    "Source: https://mc-stan.org/users/documentation/case-studies/golf.html"
   ]
  },
  {
   "cell_type": "code",
   "execution_count": 1,
   "metadata": {},
   "outputs": [],
   "source": [
    "import pystan\n",
    "import numpy as np\n",
    "import pandas as pd\n",
    "from scipy.stats import norm\n",
    "\n",
    "import requests \n",
    "from lxml import html\n",
    "from io import StringIO\n",
    "\n",
    "from matplotlib import pyplot as plt"
   ]
  },
  {
   "cell_type": "markdown",
   "metadata": {},
   "source": [
    "Aux functions for visualization"
   ]
  },
  {
   "cell_type": "code",
   "execution_count": 2,
   "metadata": {},
   "outputs": [],
   "source": [
    "def stanplot_postetior_hist(stan_sample, params):\n",
    "    '''This function takes a PyStan posterior sample object and a touple of parameter names, and plots posterior dist histogram of named parameter'''\n",
    "    post_sample_params = {}\n",
    "    \n",
    "    for p in params:\n",
    "        post_sample_params[p] = stan_sample.extract(p)[p]\n",
    "    \n",
    "    fig, panes = plt.subplots(1,len(params))\n",
    "    fig.suptitle('Posterior Dist of Params')\n",
    "    \n",
    "    for p,w in zip(params, panes): \n",
    "        w.hist(post_sample_params[p])\n",
    "        w.set_title(p)\n",
    "\n",
    "    fig.show()"
   ]
  },
  {
   "cell_type": "code",
   "execution_count": 3,
   "metadata": {},
   "outputs": [],
   "source": [
    "def stanplot_posterior_lineplot(x, y, stan_sample, params, f, sample_size=100, alpha=0.05, color='green'):\n",
    "    '''Posterior dist line plot\n",
    "    params:\n",
    "      x: x-axis values from actual data used for training \n",
    "      y: y-axis values from actual data used for training \n",
    "      stan_sample: a fitted PyStan sample object\n",
    "      params: list of parameter names required for calculating the posterior curve \n",
    "      f: a function the describes the model. Should take as parameters `x` and `*params` as inputs and return a list (or list-coercable object) that will be used for plotting the sampled curves\n",
    "      sample_size: how many curves to draw from the posterior dist\n",
    "      alpha: transparency of drawn curves (from pyplot, default=0.05)\n",
    "      color: color of drawn curves (from pyplot. default='green')\n",
    "    '''\n",
    "    tmp = stan_sample.stan_args\n",
    "    total_samples = (tmp[0]['iter'] - tmp[0]['warmup']) * len(tmp)\n",
    "    \n",
    "    sample_rows = np.random.choice(a=total_samples, size=sample_size, replace=False)    \n",
    "    sampled_param_array = np.array(list(stan_sample.extract(params).values()))[:, sample_rows]\n",
    "\n",
    "    _ = plt.plot(x, y)\n",
    "    \n",
    "    for param_touple in zip(*sampled_param_array):\n",
    "        plt.plot(x, f(x, *param_touple), color=color, alpha=alpha)"
   ]
  },
  {
   "cell_type": "code",
   "execution_count": 4,
   "metadata": {},
   "outputs": [],
   "source": [
    "def sigmoid_linear_curve(x, a, b):\n",
    "    return 1 / (1 + np.exp(-1 * (a + b * x)))"
   ]
  },
  {
   "cell_type": "code",
   "execution_count": 5,
   "metadata": {},
   "outputs": [],
   "source": [
    "def trig_curve(x, sigma, r=(1.68/2)/12, R=(4.25/2)/12):\n",
    "    return 2 * norm.cdf(np.arcsin((R - r) / x) / sigma) - 1"
   ]
  },
  {
   "cell_type": "code",
   "execution_count": 6,
   "metadata": {},
   "outputs": [],
   "source": [
    "def overshot_curve(x, sigma_distance, sigma_angle, r=(1.68/2)/12, R=(4.25/2)/12, overshot=1., distance_tolerance=3.):\n",
    "    p_angle = 2 * norm.cdf(np.arcsin((R - r) / x) / sigma_angle) - 1\n",
    "    p_upper = norm.cdf((distance_tolerance - overshot) / ((x + overshot) * sigma_distance))\n",
    "    p_lower = norm.cdf((-1 * overshot) / ((x + overshot) * sigma_distance))\n",
    "    return p_angle * (p_upper - p_lower)"
   ]
  },
  {
   "cell_type": "markdown",
   "metadata": {},
   "source": [
    "## Data"
   ]
  },
  {
   "cell_type": "markdown",
   "metadata": {},
   "source": [
    "Scrape webpage"
   ]
  },
  {
   "cell_type": "code",
   "execution_count": 7,
   "metadata": {},
   "outputs": [],
   "source": [
    "url = 'https://statmodeling.stat.columbia.edu/2019/03/21/new-golf-putting-data-and-a-new-golf-putting-model'\n",
    "xpath = '/html/body/div/div[3]/div/div[1]/div[3]/div[2]/pre[1]'\n",
    "header = {'User-Agent': 'Mozilla/5.0 (Macintosh; Intel Mac OS X 10_10_1) AppleWebKit/537.36 (KHTML, like Gecko) Chrome/39.0.2171.95 Safari/537.36'}"
   ]
  },
  {
   "cell_type": "code",
   "execution_count": 8,
   "metadata": {},
   "outputs": [],
   "source": [
    "r = requests.get(url, headers=header)"
   ]
  },
  {
   "cell_type": "markdown",
   "metadata": {},
   "source": [
    "Parse HTML to string"
   ]
  },
  {
   "cell_type": "code",
   "execution_count": 9,
   "metadata": {},
   "outputs": [],
   "source": [
    "html_table = html.fromstring(r.text).xpath(xpath)[0]"
   ]
  },
  {
   "cell_type": "markdown",
   "metadata": {},
   "source": [
    "Rease data into a Pandas DF"
   ]
  },
  {
   "cell_type": "code",
   "execution_count": 10,
   "metadata": {},
   "outputs": [],
   "source": [
    "with StringIO(html_table.text) as f:\n",
    "    df = pd.read_csv(f, sep = ' ')"
   ]
  },
  {
   "cell_type": "code",
   "execution_count": 11,
   "metadata": {},
   "outputs": [
    {
     "data": {
      "text/html": [
       "<div>\n",
       "<style scoped>\n",
       "    .dataframe tbody tr th:only-of-type {\n",
       "        vertical-align: middle;\n",
       "    }\n",
       "\n",
       "    .dataframe tbody tr th {\n",
       "        vertical-align: top;\n",
       "    }\n",
       "\n",
       "    .dataframe thead th {\n",
       "        text-align: right;\n",
       "    }\n",
       "</style>\n",
       "<table border=\"1\" class=\"dataframe\">\n",
       "  <thead>\n",
       "    <tr style=\"text-align: right;\">\n",
       "      <th></th>\n",
       "      <th>x</th>\n",
       "      <th>n</th>\n",
       "      <th>y</th>\n",
       "    </tr>\n",
       "  </thead>\n",
       "  <tbody>\n",
       "    <tr>\n",
       "      <th>0</th>\n",
       "      <td>2</td>\n",
       "      <td>1443</td>\n",
       "      <td>1346</td>\n",
       "    </tr>\n",
       "    <tr>\n",
       "      <th>1</th>\n",
       "      <td>3</td>\n",
       "      <td>694</td>\n",
       "      <td>577</td>\n",
       "    </tr>\n",
       "    <tr>\n",
       "      <th>2</th>\n",
       "      <td>4</td>\n",
       "      <td>455</td>\n",
       "      <td>337</td>\n",
       "    </tr>\n",
       "    <tr>\n",
       "      <th>3</th>\n",
       "      <td>5</td>\n",
       "      <td>353</td>\n",
       "      <td>208</td>\n",
       "    </tr>\n",
       "    <tr>\n",
       "      <th>4</th>\n",
       "      <td>6</td>\n",
       "      <td>272</td>\n",
       "      <td>149</td>\n",
       "    </tr>\n",
       "  </tbody>\n",
       "</table>\n",
       "</div>"
      ],
      "text/plain": [
       "   x     n     y\n",
       "0  2  1443  1346\n",
       "1  3   694   577\n",
       "2  4   455   337\n",
       "3  5   353   208\n",
       "4  6   272   149"
      ]
     },
     "execution_count": 11,
     "metadata": {},
     "output_type": "execute_result"
    }
   ],
   "source": [
    "df.head()"
   ]
  },
  {
   "cell_type": "markdown",
   "metadata": {},
   "source": [
    "And finally add some columns"
   ]
  },
  {
   "cell_type": "code",
   "execution_count": 12,
   "metadata": {},
   "outputs": [],
   "source": [
    "df['p'] = df['y'] / df['n']\n",
    "df['sd'] = np.sqrt(df['p'] * (1 - df['p']) / df['n'])"
   ]
  },
  {
   "cell_type": "code",
   "execution_count": 13,
   "metadata": {},
   "outputs": [],
   "source": [
    "stan_data = {'x': df['x'], 'y': df['y'], 'n': df['n'], 'N': df.shape[0]}"
   ]
  },
  {
   "cell_type": "markdown",
   "metadata": {},
   "source": [
    "### Plot data"
   ]
  },
  {
   "cell_type": "code",
   "execution_count": 14,
   "metadata": {},
   "outputs": [
    {
     "data": {
      "image/png": "[encoded data removed]",
      "text/plain": [
       "<Figure size 432x288 with 1 Axes>"
      ]
     },
     "metadata": {
      "needs_background": "light"
     },
     "output_type": "display_data"
    }
   ],
   "source": [
    "#_ = df.plot(x='x', y='p')\n",
    "plt.plot(df['x'], df['p'])\n",
    "plt.fill_between(x=df['x'], y1=df['p'] - 2 * df['sd'], y2=df['p'] + 2 * df['sd'], alpha=0.3)\n",
    "plt.show()"
   ]
  },
  {
   "cell_type": "markdown",
   "metadata": {},
   "source": [
    "## Models"
   ]
  },
  {
   "cell_type": "markdown",
   "metadata": {},
   "source": [
    "### Logistic model"
   ]
  },
  {
   "cell_type": "code",
   "execution_count": 15,
   "metadata": {},
   "outputs": [
    {
     "name": "stderr",
     "output_type": "stream",
     "text": [
      "INFO:pystan:COMPILING THE C++ CODE FOR MODEL anon_model_7fa4acbee23cf1b2cfe985c67ceeade8 NOW.\n"
     ]
    }
   ],
   "source": [
    "stan_logistic = pystan.StanModel(file='./logistic.stan')"
   ]
  },
  {
   "cell_type": "code",
   "execution_count": 16,
   "metadata": {},
   "outputs": [
    {
     "name": "stderr",
     "output_type": "stream",
     "text": [
      "WARNING:pystan:This platform lacks a functioning sem_open implementation, therefore, the required synchronization primitives needed will not function, see issue 3770.. _map_parallel will operate in serial mode\n"
     ]
    }
   ],
   "source": [
    "post_sample_logistic = stan_logistic.sampling(data=stan_data)"
   ]
  },
  {
   "cell_type": "code",
   "execution_count": 17,
   "metadata": {},
   "outputs": [
    {
     "name": "stdout",
     "output_type": "stream",
     "text": [
      "Inference for Stan model: anon_model_7fa4acbee23cf1b2cfe985c67ceeade8.\n",
      "4 chains, each with iter=2000; warmup=1000; thin=1; \n",
      "post-warmup draws per chain=1000, total post-warmup draws=4000.\n",
      "\n",
      "       mean se_mean     sd   2.5%    25%    50%    75%  97.5%  n_eff   Rhat\n",
      "a      2.23  1.6e-3   0.06   2.12   2.19   2.23   2.27   2.35   1356    1.0\n",
      "b     -0.26  1.8e-4 6.9e-3  -0.27  -0.26  -0.26  -0.25  -0.24   1394    1.0\n",
      "lp__  -3021    0.03   1.05  -3023  -3021  -3020  -3020  -3020   1075    1.0\n",
      "\n",
      "Samples were drawn using NUTS at Sun Feb  9 14:34:54 2020.\n",
      "For each parameter, n_eff is a crude measure of effective sample size,\n",
      "and Rhat is the potential scale reduction factor on split chains (at \n",
      "convergence, Rhat=1).\n"
     ]
    }
   ],
   "source": [
    "print(post_sample_logistic)"
   ]
  },
  {
   "cell_type": "code",
   "execution_count": 18,
   "metadata": {},
   "outputs": [
    {
     "data": {
      "image/png": "[encoded data removed]",
      "text/plain": [
       "<Figure size 432x288 with 2 Axes>"
      ]
     },
     "metadata": {
      "needs_background": "light"
     },
     "output_type": "display_data"
    }
   ],
   "source": [
    "stanplot_postetior_hist(post_sample_logistic, ('a', 'b'))"
   ]
  },
  {
   "cell_type": "code",
   "execution_count": 19,
   "metadata": {},
   "outputs": [
    {
     "data": {
      "image/png": "[encoded data removed]",
      "text/plain": [
       "<Figure size 432x288 with 1 Axes>"
      ]
     },
     "metadata": {
      "needs_background": "light"
     },
     "output_type": "display_data"
    }
   ],
   "source": [
    "stanplot_posterior_lineplot(df['x'], df['p'], post_sample_logistic, ('a', 'b'), sigmoid_linear_curve)"
   ]
  },
  {
   "cell_type": "markdown",
   "metadata": {},
   "source": [
    "### Simple triginometric model"
   ]
  },
  {
   "cell_type": "code",
   "execution_count": 20,
   "metadata": {},
   "outputs": [
    {
     "name": "stderr",
     "output_type": "stream",
     "text": [
      "INFO:pystan:COMPILING THE C++ CODE FOR MODEL anon_model_7e1d147b382c4cc95d3dbdfff55ab083 NOW.\n"
     ]
    }
   ],
   "source": [
    "stan_trig = pystan.StanModel(file='./trig.stan')"
   ]
  },
  {
   "cell_type": "code",
   "execution_count": 22,
   "metadata": {},
   "outputs": [
    {
     "name": "stderr",
     "output_type": "stream",
     "text": [
      "WARNING:pystan:This platform lacks a functioning sem_open implementation, therefore, the required synchronization primitives needed will not function, see issue 3770.. _map_parallel will operate in serial mode\n"
     ]
    }
   ],
   "source": [
    "stan_data.update({'r': (1.68/2)/12, 'R': (4.25/2)/12})\n",
    "post_sample_trig = stan_trig.sampling(data=stan_data)"
   ]
  },
  {
   "cell_type": "code",
   "execution_count": 23,
   "metadata": {},
   "outputs": [
    {
     "name": "stdout",
     "output_type": "stream",
     "text": [
      "Inference for Stan model: anon_model_7e1d147b382c4cc95d3dbdfff55ab083.\n",
      "4 chains, each with iter=2000; warmup=1000; thin=1; \n",
      "post-warmup draws per chain=1000, total post-warmup draws=4000.\n",
      "\n",
      "                mean se_mean     sd   2.5%    25%    50%    75%  97.5%  n_eff   Rhat\n",
      "sigma           0.03  3.4e-5 1.4e-3   0.03   0.03   0.03   0.03   0.03   1603    1.0\n",
      "p[1]            0.92  3.4e-4   0.01   0.89   0.91   0.92   0.93   0.94   1611    1.0\n",
      "p[2]            0.75  5.2e-4   0.02   0.71   0.74   0.75   0.77   0.79   1598    1.0\n",
      "p[3]            0.61  5.2e-4   0.02   0.57    0.6   0.61   0.63   0.65   1593    1.0\n",
      "p[4]            0.51  4.8e-4   0.02   0.47    0.5   0.51   0.52   0.55   1591    1.0\n",
      "p[5]            0.44  4.3e-4   0.02    0.4   0.42   0.44   0.45   0.47   1590    1.0\n",
      "p[6]            0.38  3.9e-4   0.02   0.35   0.37   0.38   0.39   0.41   1589    1.0\n",
      "p[7]            0.34  3.5e-4   0.01   0.31   0.33   0.33   0.34   0.36   1589    1.0\n",
      "p[8]             0.3  3.2e-4   0.01   0.28   0.29    0.3   0.31   0.33   1589    1.0\n",
      "p[9]            0.27  2.9e-4   0.01   0.25   0.26   0.27   0.28   0.29   1588    1.0\n",
      "p[10]           0.25  2.6e-4   0.01   0.23   0.24   0.25   0.25   0.27   1588    1.0\n",
      "p[11]           0.23  2.4e-4 9.7e-3   0.21   0.22   0.23   0.23   0.25   1588    1.0\n",
      "p[12]           0.21  2.3e-4 9.0e-3   0.19    0.2   0.21   0.22   0.23   1588    1.0\n",
      "p[13]            0.2  2.1e-4 8.4e-3   0.18   0.19    0.2    0.2   0.21   1588    1.0\n",
      "p[14]           0.18  2.0e-4 7.9e-3   0.17   0.18   0.18   0.19    0.2   1588    1.0\n",
      "p[15]           0.17  1.9e-4 7.4e-3   0.16   0.17   0.17   0.18   0.19   1588    1.0\n",
      "p[16]           0.16  1.8e-4 7.0e-3   0.15   0.16   0.16   0.17   0.18   1588    1.0\n",
      "p[17]           0.15  1.7e-4 6.6e-3   0.14   0.15   0.15   0.16   0.17   1588    1.0\n",
      "p[18]           0.14  1.6e-4 6.3e-3   0.13   0.14   0.14   0.15   0.16   1588    1.0\n",
      "p[19]           0.14  1.5e-4 6.0e-3   0.13   0.13   0.14   0.14   0.15   1588    1.0\n",
      "sigma_degrees   1.77  2.0e-3   0.08   1.63   1.72   1.77   1.83   1.93   1603    1.0\n",
      "lp__           -3691    0.02   0.67  -3693  -3691  -3691  -3691  -3691   1628    1.0\n",
      "\n",
      "Samples were drawn using NUTS at Sun Feb  9 14:39:43 2020.\n",
      "For each parameter, n_eff is a crude measure of effective sample size,\n",
      "and Rhat is the potential scale reduction factor on split chains (at \n",
      "convergence, Rhat=1).\n"
     ]
    }
   ],
   "source": [
    "print(post_sample_trig)"
   ]
  },
  {
   "cell_type": "code",
   "execution_count": 24,
   "metadata": {},
   "outputs": [
    {
     "data": {
      "image/png": "[encoded data removed]",
      "text/plain": [
       "<Figure size 432x288 with 2 Axes>"
      ]
     },
     "metadata": {
      "needs_background": "light"
     },
     "output_type": "display_data"
    }
   ],
   "source": [
    "stanplot_postetior_hist(post_sample_trig, ('sigma', 'sigma_degrees'))"
   ]
  },
  {
   "cell_type": "code",
   "execution_count": 25,
   "metadata": {},
   "outputs": [
    {
     "data": {
      "image/png": "[encoded data removed]",
      "text/plain": [
       "<Figure size 432x288 with 1 Axes>"
      ]
     },
     "metadata": {
      "needs_background": "light"
     },
     "output_type": "display_data"
    }
   ],
   "source": [
    "stanplot_posterior_lineplot(df['x'], df['p'], post_sample_trig, ('sigma'), trig_curve)"
   ]
  },
  {
   "cell_type": "markdown",
   "metadata": {},
   "source": [
    "### Augmented trigonometric model"
   ]
  },
  {
   "cell_type": "code",
   "execution_count": 26,
   "metadata": {},
   "outputs": [
    {
     "name": "stderr",
     "output_type": "stream",
     "text": [
      "INFO:pystan:COMPILING THE C++ CODE FOR MODEL anon_model_44be507e979734bbba2b844efdcc49cf NOW.\n"
     ]
    }
   ],
   "source": [
    "stan_overshot = pystan.StanModel(file='./trig_overshot.stan')"
   ]
  },
  {
   "cell_type": "code",
   "execution_count": 27,
   "metadata": {},
   "outputs": [
    {
     "name": "stderr",
     "output_type": "stream",
     "text": [
      "WARNING:pystan:This platform lacks a functioning sem_open implementation, therefore, the required synchronization primitives needed will not function, see issue 3770.. _map_parallel will operate in serial mode\n"
     ]
    }
   ],
   "source": [
    "stan_data.update({'overshot': 1., 'distance_tolerance': 3.})\n",
    "post_sample_overshot = stan_overshot.sampling(data=stan_data)"
   ]
  },
  {
   "cell_type": "code",
   "execution_count": 28,
   "metadata": {},
   "outputs": [
    {
     "name": "stdout",
     "output_type": "stream",
     "text": [
      "Inference for Stan model: anon_model_44be507e979734bbba2b844efdcc49cf.\n",
      "4 chains, each with iter=2000; warmup=1000; thin=1; \n",
      "post-warmup draws per chain=1000, total post-warmup draws=4000.\n",
      "\n",
      "                 mean se_mean      sd   2.5%    25%    50%    75%  97.5%  n_eff   Rhat\n",
      "sigma_angle      0.02  2.4e-5  1.3e-3   0.02   0.02   0.02   0.02   0.02   2882    1.0\n",
      "sigma_distance   0.17  2.5e-4    0.01   0.15   0.17   0.17   0.18    0.2   2815    1.0\n",
      "sigma_y          0.11  4.8e-4    0.02   0.07   0.09   0.11   0.13   0.17   2643    1.0\n",
      "p_angle[1]       0.98  1.1e-4  6.0e-3   0.97   0.98   0.98   0.99   0.99   2860    1.0\n",
      "p_angle[2]       0.89  3.7e-4    0.02   0.85   0.88   0.89   0.91   0.93   2884    1.0\n",
      "p_angle[3]       0.78  5.0e-4    0.03   0.72   0.76   0.78   0.79   0.83   2882    1.0\n",
      "p_angle[4]       0.67  5.2e-4    0.03   0.62   0.65   0.67   0.69   0.72   2879    1.0\n",
      "p_angle[5]       0.58  5.1e-4    0.03   0.53   0.56   0.58    0.6   0.64   2877    1.0\n",
      "p_angle[6]       0.51  4.7e-4    0.03   0.47    0.5   0.51   0.53   0.56   2875    1.0\n",
      "p_angle[7]       0.46  4.4e-4    0.02   0.41   0.44   0.46   0.47    0.5   2874    1.0\n",
      "p_angle[8]       0.41  4.1e-4    0.02   0.37    0.4   0.41   0.43   0.46   2873    1.0\n",
      "p_angle[9]       0.37  3.8e-4    0.02   0.34   0.36   0.37   0.39   0.41   2873    1.0\n",
      "p_angle[10]      0.34  3.5e-4    0.02   0.31   0.33   0.34   0.35   0.38   2872    1.0\n",
      "p_angle[11]      0.32  3.2e-4    0.02   0.28    0.3   0.31   0.33   0.35   2872    1.0\n",
      "p_angle[12]      0.29  3.0e-4    0.02   0.26   0.28   0.29    0.3   0.33   2872    1.0\n",
      "p_angle[13]      0.27  2.8e-4    0.02   0.24   0.26   0.27   0.28    0.3   2872    1.0\n",
      "p_angle[14]      0.25  2.7e-4    0.01   0.23   0.24   0.25   0.26   0.28   2871    1.0\n",
      "p_angle[15]      0.24  2.5e-4    0.01   0.21   0.23   0.24   0.25   0.27   2871    1.0\n",
      "p_angle[16]      0.23  2.4e-4    0.01    0.2   0.22   0.22   0.23   0.25   2871    1.0\n",
      "p_angle[17]      0.21  2.3e-4    0.01   0.19    0.2   0.21   0.22   0.24   2871    1.0\n",
      "p_angle[18]       0.2  2.2e-4    0.01   0.18   0.19    0.2   0.21   0.23   2871    1.0\n",
      "p_angle[19]      0.19  2.1e-4    0.01   0.17   0.18   0.19    0.2   0.22   2871    1.0\n",
      "p_upper[1]        1.0  2.4e-6  1.2e-4    1.0    1.0    1.0    1.0    1.0   2797    1.0\n",
      "p_upper[2]        1.0  3.0e-5  1.6e-3   0.99    1.0    1.0    1.0    1.0   2870    1.0\n",
      "p_upper[3]       0.99  9.5e-5  5.1e-3   0.98   0.99   0.99   0.99    1.0   2922    1.0\n",
      "p_upper[4]       0.97  1.7e-4  9.3e-3   0.95   0.97   0.97   0.98   0.99   2922    1.0\n",
      "p_upper[5]       0.95  2.4e-4    0.01   0.92   0.94   0.95   0.96   0.97   2883    1.0\n",
      "p_upper[6]       0.92  2.9e-4    0.02   0.89   0.91   0.92   0.93   0.95   2841    1.0\n",
      "p_upper[7]        0.9  3.2e-4    0.02   0.87   0.89    0.9   0.91   0.93   2803    1.0\n",
      "p_upper[8]       0.87  3.4e-4    0.02   0.84   0.86   0.87   0.89   0.91   2772    1.0\n",
      "p_upper[9]       0.85  3.5e-4    0.02   0.82   0.84   0.85   0.86   0.89   2747    1.0\n",
      "p_upper[10]      0.83  3.6e-4    0.02    0.8   0.82   0.83   0.84   0.87   2727    1.0\n",
      "p_upper[11]      0.81  3.5e-4    0.02   0.78    0.8   0.81   0.82   0.85   2710    1.0\n",
      "p_upper[12]      0.79  3.5e-4    0.02   0.76   0.78   0.79   0.81   0.83   2696    1.0\n",
      "p_upper[13]      0.78  3.4e-4    0.02   0.75   0.77   0.78   0.79   0.82   2685    1.0\n",
      "p_upper[14]      0.76  3.3e-4    0.02   0.73   0.75   0.76   0.77    0.8   2676    1.0\n",
      "p_upper[15]      0.75  3.2e-4    0.02   0.72   0.74   0.75   0.76   0.79   2668    1.0\n",
      "p_upper[16]      0.74  3.1e-4    0.02   0.71   0.73   0.74   0.75   0.77   2661    1.0\n",
      "p_upper[17]      0.73  3.0e-4    0.02    0.7   0.72   0.73   0.74   0.76   2655    1.0\n",
      "p_upper[18]      0.72  2.9e-4    0.02   0.69   0.71   0.72   0.73   0.75   2650    1.0\n",
      "p_upper[19]      0.71  2.8e-4    0.01   0.68    0.7   0.71   0.72   0.74   2646    1.0\n",
      "p_lower[1]       0.03  1.7e-4  9.3e-3   0.01   0.02   0.03   0.03   0.05   2922    1.0\n",
      "p_lower[2]       0.08  2.9e-4    0.02   0.05   0.07   0.08   0.09   0.11   2841    1.0\n",
      "p_lower[3]       0.13  3.4e-4    0.02   0.09   0.11   0.13   0.14   0.16   2772    1.0\n",
      "p_lower[4]       0.17  3.6e-4    0.02   0.13   0.16   0.17   0.18    0.2   2727    1.0\n",
      "p_lower[5]       0.21  3.5e-4    0.02   0.17   0.19   0.21   0.22   0.24   2696    1.0\n",
      "p_lower[6]       0.24  3.3e-4    0.02    0.2   0.23   0.24   0.25   0.27   2676    1.0\n",
      "p_lower[7]       0.26  3.1e-4    0.02   0.23   0.25   0.26   0.27   0.29   2661    1.0\n",
      "p_lower[8]       0.28  2.9e-4    0.02   0.25   0.27   0.28   0.29   0.31   2650    1.0\n",
      "p_lower[9]        0.3  2.8e-4    0.01   0.27   0.29    0.3   0.31   0.33   2642    1.0\n",
      "p_lower[10]      0.32  2.6e-4    0.01   0.29   0.31   0.32   0.32   0.34   2636    1.0\n",
      "p_lower[11]      0.33  2.4e-4    0.01    0.3   0.32   0.33   0.34   0.35   2631    1.0\n",
      "p_lower[12]      0.34  2.3e-4    0.01   0.32   0.33   0.34   0.35   0.36   2627    1.0\n",
      "p_lower[13]      0.35  2.2e-4    0.01   0.33   0.34   0.35   0.36   0.37   2624    1.0\n",
      "p_lower[14]      0.36  2.1e-4    0.01   0.34   0.35   0.36   0.37   0.38   2622    1.0\n",
      "p_lower[15]      0.37  1.9e-4 10.0e-3   0.35   0.36   0.37   0.37   0.38   2620    1.0\n",
      "p_lower[16]      0.37  1.9e-4  9.5e-3   0.35   0.37   0.37   0.38   0.39   2618    1.0\n",
      "p_lower[17]      0.38  1.8e-4  9.0e-3   0.36   0.38   0.38   0.39    0.4   2616    1.0\n",
      "p_lower[18]      0.39  1.7e-4  8.6e-3   0.37   0.38   0.39   0.39    0.4   2615    1.0\n",
      "p_lower[19]      0.39  1.6e-4  8.2e-3   0.37   0.39   0.39    0.4   0.41   2614    1.0\n",
      "p[1]             0.96  1.8e-4  9.5e-3   0.94   0.95   0.96   0.96   0.97   2731    1.0\n",
      "p[2]             0.82  3.8e-4    0.02   0.78   0.81   0.82   0.84   0.86   2917    1.0\n",
      "p[3]             0.67  4.6e-4    0.02   0.62   0.65   0.67   0.69   0.72   2892    1.0\n",
      "p[4]             0.54  4.6e-4    0.02   0.49   0.52   0.54   0.55   0.59   2853    1.0\n",
      "p[5]             0.43  4.3e-4    0.02   0.39   0.42   0.43   0.45   0.48   2806    1.0\n",
      "p[6]             0.35  3.9e-4    0.02   0.31   0.34   0.35   0.37   0.39   2762    1.0\n",
      "p[7]             0.29  3.4e-4    0.02   0.26   0.28   0.29    0.3   0.33   2727    1.0\n",
      "p[8]             0.24  3.0e-4    0.02   0.21   0.23   0.24   0.25   0.28   2698    1.0\n",
      "p[9]             0.21  2.7e-4    0.01   0.18    0.2   0.21   0.22   0.23   2676    1.0\n",
      "p[10]            0.18  2.4e-4    0.01   0.15   0.17   0.18   0.18    0.2   2659    1.0\n",
      "p[11]            0.15  2.1e-4    0.01   0.13   0.14   0.15   0.16   0.17   2645    1.0\n",
      "p[12]            0.13  1.9e-4  9.6e-3   0.11   0.13   0.13   0.14   0.15   2633    1.0\n",
      "p[13]            0.12  1.7e-4  8.6e-3    0.1   0.11   0.12   0.12   0.13   2624    1.0\n",
      "p[14]             0.1  1.5e-4  7.7e-3   0.09    0.1    0.1   0.11   0.12   2616    1.0\n",
      "p[15]            0.09  1.4e-4  6.9e-3   0.08   0.09   0.09    0.1   0.11   2609    1.0\n",
      "p[16]            0.08  1.2e-4  6.2e-3   0.07   0.08   0.08   0.09   0.09   2604    1.0\n",
      "p[17]            0.07  1.1e-4  5.7e-3   0.06   0.07   0.07   0.08   0.09   2599    1.0\n",
      "p[18]            0.07  1.0e-4  5.2e-3   0.06   0.06   0.07   0.07   0.08   2595    1.0\n",
      "p[19]            0.06  9.3e-5  4.7e-3   0.05   0.06   0.06   0.06   0.07   2591    1.0\n",
      "sigma_degrees    1.26  1.4e-3    0.07   1.12   1.21   1.26   1.31   1.41   2882    1.0\n",
      "lp__            -3587    0.03    1.26  -3590  -3587  -3586  -3586  -3585   1758    1.0\n",
      "\n",
      "Samples were drawn using NUTS at Sun Feb  9 14:44:16 2020.\n",
      "For each parameter, n_eff is a crude measure of effective sample size,\n",
      "and Rhat is the potential scale reduction factor on split chains (at \n",
      "convergence, Rhat=1).\n"
     ]
    }
   ],
   "source": [
    "print(post_sample_overshot)"
   ]
  },
  {
   "cell_type": "code",
   "execution_count": 29,
   "metadata": {},
   "outputs": [
    {
     "data": {
      "image/png": "[encoded data removed]",
      "text/plain": [
       "<Figure size 432x288 with 3 Axes>"
      ]
     },
     "metadata": {
      "needs_background": "light"
     },
     "output_type": "display_data"
    }
   ],
   "source": [
    "stanplot_postetior_hist(post_sample_overshot, ('sigma_distance', 'sigma_angle', 'sigma_y'))"
   ]
  },
  {
   "cell_type": "code",
   "execution_count": 30,
   "metadata": {},
   "outputs": [
    {
     "data": {
      "image/png": "[encoded data removed]",
      "text/plain": [
       "<Figure size 432x288 with 1 Axes>"
      ]
     },
     "metadata": {
      "needs_background": "light"
     },
     "output_type": "display_data"
    }
   ],
   "source": [
    "stanplot_posterior_lineplot(\n",
    "    x=df['x'], \n",
    "    y=df['p'], \n",
    "    stan_sample=post_sample_overshot, \n",
    "    params=('sigma_distance', 'sigma_angle'), \n",
    "    f=overshot_curve\n",
    ")"
   ]
  },
  {
   "cell_type": "code",
   "execution_count": null,
   "metadata": {},
   "outputs": [],
   "source": []
  }
 ],
 "metadata": {
  "kernelspec": {
   "display_name": "Python 3",
   "language": "python",
   "name": "python3"
  },
  "language_info": {
   "codemirror_mode": {
    "name": "ipython",
    "version": 3
   },
   "file_extension": ".py",
   "mimetype": "text/x-python",
   "name": "python",
   "nbconvert_exporter": "python",
   "pygments_lexer": "ipython3",
   "version": "3.8.1"
  }
 },
 "nbformat": 4,
 "nbformat_minor": 4
}
